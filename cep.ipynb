{
 "cells": [
  {
   "cell_type": "code",
   "execution_count": 2,
   "metadata": {
    "id": "7I14pdpVKiKc"
   },
   "outputs": [],
   "source": [
    "import numpy as np\n",
    "import pandas as pd\n",
    "import matplotlib.pyplot as plt\n",
    "import seaborn as sns\n",
    "from sklearn.linear_model import LinearRegression\n",
    "from sklearn.neighbors import KNeighborsClassifier\n",
    "from sklearn.model_selection import train_test_split\n",
    "from sklearn.linear_model import LogisticRegression\n",
    "from sklearn.model_selection import GridSearchCV, KFold\n",
    "from sklearn.neural_network import MLPClassifier\n",
    "from sklearn.tree import DecisionTreeClassifier\n",
    "import statsmodels.api as sm\n",
    "from statsmodels.stats.outliers_influence import variance_inflation_factor\n",
    "from sklearn.metrics import roc_auc_score, make_scorer\n",
    "from sklearn.metrics import classification_report, confusion_matrix,accuracy_score,precision_score,recall_score, roc_auc_score, make_scorer"
   ]
  },
  {
   "cell_type": "code",
   "execution_count": 3,
   "metadata": {
    "colab": {
     "base_uri": "https://localhost:8080/",
     "height": 659
    },
    "id": "DBaRNxnWVUOE",
    "outputId": "abd4707a-fcfb-4f8a-dd41-73763a18abac"
   },
   "outputs": [
    {
     "data": {
      "text/html": [
       "<div>\n",
       "<style scoped>\n",
       "    .dataframe tbody tr th:only-of-type {\n",
       "        vertical-align: middle;\n",
       "    }\n",
       "\n",
       "    .dataframe tbody tr th {\n",
       "        vertical-align: top;\n",
       "    }\n",
       "\n",
       "    .dataframe thead th {\n",
       "        text-align: right;\n",
       "    }\n",
       "</style>\n",
       "<table border=\"1\" class=\"dataframe\">\n",
       "  <thead>\n",
       "    <tr style=\"text-align: right;\">\n",
       "      <th></th>\n",
       "      <th>Precip Type</th>\n",
       "      <th>Temperature (C)</th>\n",
       "      <th>Humidity</th>\n",
       "      <th>Wind Speed (km/h)</th>\n",
       "      <th>Wind Bearing (degrees)</th>\n",
       "      <th>Visibility (km)</th>\n",
       "      <th>Pressure (millibars)</th>\n",
       "      <th>Month</th>\n",
       "      <th>Hour</th>\n",
       "      <th>Summary</th>\n",
       "    </tr>\n",
       "  </thead>\n",
       "  <tbody>\n",
       "    <tr>\n",
       "      <th>0</th>\n",
       "      <td>1</td>\n",
       "      <td>9.472222</td>\n",
       "      <td>0.89</td>\n",
       "      <td>14.1197</td>\n",
       "      <td>251.0</td>\n",
       "      <td>15.8263</td>\n",
       "      <td>1015.13</td>\n",
       "      <td>4</td>\n",
       "      <td>0</td>\n",
       "      <td>Partly Cloudy</td>\n",
       "    </tr>\n",
       "    <tr>\n",
       "      <th>1</th>\n",
       "      <td>1</td>\n",
       "      <td>9.355556</td>\n",
       "      <td>0.86</td>\n",
       "      <td>14.2646</td>\n",
       "      <td>259.0</td>\n",
       "      <td>15.8263</td>\n",
       "      <td>1015.63</td>\n",
       "      <td>4</td>\n",
       "      <td>1</td>\n",
       "      <td>Partly Cloudy</td>\n",
       "    </tr>\n",
       "    <tr>\n",
       "      <th>2</th>\n",
       "      <td>1</td>\n",
       "      <td>9.377778</td>\n",
       "      <td>0.89</td>\n",
       "      <td>3.9284</td>\n",
       "      <td>204.0</td>\n",
       "      <td>14.9569</td>\n",
       "      <td>1015.94</td>\n",
       "      <td>4</td>\n",
       "      <td>2</td>\n",
       "      <td>Mostly Cloudy</td>\n",
       "    </tr>\n",
       "    <tr>\n",
       "      <th>3</th>\n",
       "      <td>1</td>\n",
       "      <td>8.288889</td>\n",
       "      <td>0.83</td>\n",
       "      <td>14.1036</td>\n",
       "      <td>269.0</td>\n",
       "      <td>15.8263</td>\n",
       "      <td>1016.41</td>\n",
       "      <td>4</td>\n",
       "      <td>3</td>\n",
       "      <td>Partly Cloudy</td>\n",
       "    </tr>\n",
       "    <tr>\n",
       "      <th>4</th>\n",
       "      <td>1</td>\n",
       "      <td>8.755556</td>\n",
       "      <td>0.83</td>\n",
       "      <td>11.0446</td>\n",
       "      <td>259.0</td>\n",
       "      <td>15.8263</td>\n",
       "      <td>1016.51</td>\n",
       "      <td>4</td>\n",
       "      <td>4</td>\n",
       "      <td>Mostly Cloudy</td>\n",
       "    </tr>\n",
       "    <tr>\n",
       "      <th>...</th>\n",
       "      <td>...</td>\n",
       "      <td>...</td>\n",
       "      <td>...</td>\n",
       "      <td>...</td>\n",
       "      <td>...</td>\n",
       "      <td>...</td>\n",
       "      <td>...</td>\n",
       "      <td>...</td>\n",
       "      <td>...</td>\n",
       "      <td>...</td>\n",
       "    </tr>\n",
       "    <tr>\n",
       "      <th>96448</th>\n",
       "      <td>1</td>\n",
       "      <td>26.016667</td>\n",
       "      <td>0.43</td>\n",
       "      <td>10.9963</td>\n",
       "      <td>31.0</td>\n",
       "      <td>16.1000</td>\n",
       "      <td>1014.36</td>\n",
       "      <td>9</td>\n",
       "      <td>19</td>\n",
       "      <td>Partly Cloudy</td>\n",
       "    </tr>\n",
       "    <tr>\n",
       "      <th>96449</th>\n",
       "      <td>1</td>\n",
       "      <td>24.583333</td>\n",
       "      <td>0.48</td>\n",
       "      <td>10.0947</td>\n",
       "      <td>20.0</td>\n",
       "      <td>15.5526</td>\n",
       "      <td>1015.16</td>\n",
       "      <td>9</td>\n",
       "      <td>20</td>\n",
       "      <td>Partly Cloudy</td>\n",
       "    </tr>\n",
       "    <tr>\n",
       "      <th>96450</th>\n",
       "      <td>1</td>\n",
       "      <td>22.038889</td>\n",
       "      <td>0.56</td>\n",
       "      <td>8.9838</td>\n",
       "      <td>30.0</td>\n",
       "      <td>16.1000</td>\n",
       "      <td>1015.66</td>\n",
       "      <td>9</td>\n",
       "      <td>21</td>\n",
       "      <td>Partly Cloudy</td>\n",
       "    </tr>\n",
       "    <tr>\n",
       "      <th>96451</th>\n",
       "      <td>1</td>\n",
       "      <td>21.522222</td>\n",
       "      <td>0.60</td>\n",
       "      <td>10.5294</td>\n",
       "      <td>20.0</td>\n",
       "      <td>16.1000</td>\n",
       "      <td>1015.95</td>\n",
       "      <td>9</td>\n",
       "      <td>22</td>\n",
       "      <td>Partly Cloudy</td>\n",
       "    </tr>\n",
       "    <tr>\n",
       "      <th>96452</th>\n",
       "      <td>1</td>\n",
       "      <td>20.438889</td>\n",
       "      <td>0.61</td>\n",
       "      <td>5.8765</td>\n",
       "      <td>39.0</td>\n",
       "      <td>15.5204</td>\n",
       "      <td>1016.16</td>\n",
       "      <td>9</td>\n",
       "      <td>23</td>\n",
       "      <td>Partly Cloudy</td>\n",
       "    </tr>\n",
       "  </tbody>\n",
       "</table>\n",
       "<p>96453 rows × 10 columns</p>\n",
       "</div>"
      ],
      "text/plain": [
       "       Precip Type  Temperature (C)  Humidity  Wind Speed (km/h)  \\\n",
       "0                1         9.472222      0.89            14.1197   \n",
       "1                1         9.355556      0.86            14.2646   \n",
       "2                1         9.377778      0.89             3.9284   \n",
       "3                1         8.288889      0.83            14.1036   \n",
       "4                1         8.755556      0.83            11.0446   \n",
       "...            ...              ...       ...                ...   \n",
       "96448            1        26.016667      0.43            10.9963   \n",
       "96449            1        24.583333      0.48            10.0947   \n",
       "96450            1        22.038889      0.56             8.9838   \n",
       "96451            1        21.522222      0.60            10.5294   \n",
       "96452            1        20.438889      0.61             5.8765   \n",
       "\n",
       "       Wind Bearing (degrees)  Visibility (km)  Pressure (millibars)  Month  \\\n",
       "0                       251.0          15.8263               1015.13      4   \n",
       "1                       259.0          15.8263               1015.63      4   \n",
       "2                       204.0          14.9569               1015.94      4   \n",
       "3                       269.0          15.8263               1016.41      4   \n",
       "4                       259.0          15.8263               1016.51      4   \n",
       "...                       ...              ...                   ...    ...   \n",
       "96448                    31.0          16.1000               1014.36      9   \n",
       "96449                    20.0          15.5526               1015.16      9   \n",
       "96450                    30.0          16.1000               1015.66      9   \n",
       "96451                    20.0          16.1000               1015.95      9   \n",
       "96452                    39.0          15.5204               1016.16      9   \n",
       "\n",
       "       Hour        Summary  \n",
       "0         0  Partly Cloudy  \n",
       "1         1  Partly Cloudy  \n",
       "2         2  Mostly Cloudy  \n",
       "3         3  Partly Cloudy  \n",
       "4         4  Mostly Cloudy  \n",
       "...     ...            ...  \n",
       "96448    19  Partly Cloudy  \n",
       "96449    20  Partly Cloudy  \n",
       "96450    21  Partly Cloudy  \n",
       "96451    22  Partly Cloudy  \n",
       "96452    23  Partly Cloudy  \n",
       "\n",
       "[96453 rows x 10 columns]"
      ]
     },
     "execution_count": 3,
     "metadata": {},
     "output_type": "execute_result"
    }
   ],
   "source": [
    "dataset=pd.read_csv('weatherHistoryCleaned.csv')\n",
    "dataset"
   ]
  },
  {
   "cell_type": "markdown",
   "metadata": {
    "id": "es-cc6pnga4J"
   },
   "source": [
    "## **About Dataset**\n",
    "\n",
    "---\n",
    "\n"
   ]
  },
  {
   "cell_type": "code",
   "execution_count": 4,
   "metadata": {
    "colab": {
     "base_uri": "https://localhost:8080/"
    },
    "id": "KndqvfiAcru0",
    "outputId": "c04a0988-b5e3-4625-88e5-bc1e0a83bf52"
   },
   "outputs": [
    {
     "name": "stdout",
     "output_type": "stream",
     "text": [
      "<class 'pandas.core.frame.DataFrame'>\n",
      "RangeIndex: 96453 entries, 0 to 96452\n",
      "Data columns (total 10 columns):\n",
      " #   Column                  Non-Null Count  Dtype  \n",
      "---  ------                  --------------  -----  \n",
      " 0   Precip Type             96453 non-null  int64  \n",
      " 1   Temperature (C)         96453 non-null  float64\n",
      " 2   Humidity                96453 non-null  float64\n",
      " 3   Wind Speed (km/h)       96453 non-null  float64\n",
      " 4   Wind Bearing (degrees)  96453 non-null  float64\n",
      " 5   Visibility (km)         96453 non-null  float64\n",
      " 6   Pressure (millibars)    96453 non-null  float64\n",
      " 7   Month                   96453 non-null  int64  \n",
      " 8   Hour                    96453 non-null  int64  \n",
      " 9   Summary                 96453 non-null  object \n",
      "dtypes: float64(6), int64(3), object(1)\n",
      "memory usage: 7.4+ MB\n"
     ]
    }
   ],
   "source": [
    "dataset.info()"
   ]
  },
  {
   "cell_type": "code",
   "execution_count": 5,
   "metadata": {
    "colab": {
     "base_uri": "https://localhost:8080/",
     "height": 300
    },
    "id": "8n6L-OyydjUz",
    "outputId": "0fa369f8-f802-463a-ec57-981cf0653baa"
   },
   "outputs": [
    {
     "data": {
      "text/html": [
       "<div>\n",
       "<style scoped>\n",
       "    .dataframe tbody tr th:only-of-type {\n",
       "        vertical-align: middle;\n",
       "    }\n",
       "\n",
       "    .dataframe tbody tr th {\n",
       "        vertical-align: top;\n",
       "    }\n",
       "\n",
       "    .dataframe thead th {\n",
       "        text-align: right;\n",
       "    }\n",
       "</style>\n",
       "<table border=\"1\" class=\"dataframe\">\n",
       "  <thead>\n",
       "    <tr style=\"text-align: right;\">\n",
       "      <th></th>\n",
       "      <th>Precip Type</th>\n",
       "      <th>Temperature (C)</th>\n",
       "      <th>Humidity</th>\n",
       "      <th>Wind Speed (km/h)</th>\n",
       "      <th>Wind Bearing (degrees)</th>\n",
       "      <th>Visibility (km)</th>\n",
       "      <th>Pressure (millibars)</th>\n",
       "      <th>Month</th>\n",
       "      <th>Hour</th>\n",
       "    </tr>\n",
       "  </thead>\n",
       "  <tbody>\n",
       "    <tr>\n",
       "      <th>count</th>\n",
       "      <td>96453.000000</td>\n",
       "      <td>96453.000000</td>\n",
       "      <td>96453.000000</td>\n",
       "      <td>96453.000000</td>\n",
       "      <td>96453.000000</td>\n",
       "      <td>96453.000000</td>\n",
       "      <td>96453.000000</td>\n",
       "      <td>96453.000000</td>\n",
       "      <td>96453.000000</td>\n",
       "    </tr>\n",
       "    <tr>\n",
       "      <th>mean</th>\n",
       "      <td>0.888941</td>\n",
       "      <td>11.932678</td>\n",
       "      <td>0.734899</td>\n",
       "      <td>10.810640</td>\n",
       "      <td>187.509232</td>\n",
       "      <td>10.347325</td>\n",
       "      <td>1003.235956</td>\n",
       "      <td>6.523799</td>\n",
       "      <td>11.500327</td>\n",
       "    </tr>\n",
       "    <tr>\n",
       "      <th>std</th>\n",
       "      <td>0.314207</td>\n",
       "      <td>9.551546</td>\n",
       "      <td>0.195473</td>\n",
       "      <td>6.913571</td>\n",
       "      <td>107.383428</td>\n",
       "      <td>4.192123</td>\n",
       "      <td>116.969906</td>\n",
       "      <td>3.448495</td>\n",
       "      <td>6.922081</td>\n",
       "    </tr>\n",
       "    <tr>\n",
       "      <th>min</th>\n",
       "      <td>0.000000</td>\n",
       "      <td>-21.822222</td>\n",
       "      <td>0.000000</td>\n",
       "      <td>0.000000</td>\n",
       "      <td>0.000000</td>\n",
       "      <td>0.000000</td>\n",
       "      <td>0.000000</td>\n",
       "      <td>1.000000</td>\n",
       "      <td>0.000000</td>\n",
       "    </tr>\n",
       "    <tr>\n",
       "      <th>25%</th>\n",
       "      <td>1.000000</td>\n",
       "      <td>4.688889</td>\n",
       "      <td>0.600000</td>\n",
       "      <td>5.828200</td>\n",
       "      <td>116.000000</td>\n",
       "      <td>8.339800</td>\n",
       "      <td>1011.900000</td>\n",
       "      <td>4.000000</td>\n",
       "      <td>6.000000</td>\n",
       "    </tr>\n",
       "    <tr>\n",
       "      <th>50%</th>\n",
       "      <td>1.000000</td>\n",
       "      <td>12.000000</td>\n",
       "      <td>0.780000</td>\n",
       "      <td>9.965900</td>\n",
       "      <td>180.000000</td>\n",
       "      <td>10.046400</td>\n",
       "      <td>1016.450000</td>\n",
       "      <td>7.000000</td>\n",
       "      <td>12.000000</td>\n",
       "    </tr>\n",
       "    <tr>\n",
       "      <th>75%</th>\n",
       "      <td>1.000000</td>\n",
       "      <td>18.838889</td>\n",
       "      <td>0.890000</td>\n",
       "      <td>14.135800</td>\n",
       "      <td>290.000000</td>\n",
       "      <td>14.812000</td>\n",
       "      <td>1021.090000</td>\n",
       "      <td>10.000000</td>\n",
       "      <td>18.000000</td>\n",
       "    </tr>\n",
       "    <tr>\n",
       "      <th>max</th>\n",
       "      <td>1.000000</td>\n",
       "      <td>39.905556</td>\n",
       "      <td>1.000000</td>\n",
       "      <td>63.852600</td>\n",
       "      <td>359.000000</td>\n",
       "      <td>16.100000</td>\n",
       "      <td>1046.380000</td>\n",
       "      <td>12.000000</td>\n",
       "      <td>23.000000</td>\n",
       "    </tr>\n",
       "  </tbody>\n",
       "</table>\n",
       "</div>"
      ],
      "text/plain": [
       "        Precip Type  Temperature (C)      Humidity  Wind Speed (km/h)  \\\n",
       "count  96453.000000     96453.000000  96453.000000       96453.000000   \n",
       "mean       0.888941        11.932678      0.734899          10.810640   \n",
       "std        0.314207         9.551546      0.195473           6.913571   \n",
       "min        0.000000       -21.822222      0.000000           0.000000   \n",
       "25%        1.000000         4.688889      0.600000           5.828200   \n",
       "50%        1.000000        12.000000      0.780000           9.965900   \n",
       "75%        1.000000        18.838889      0.890000          14.135800   \n",
       "max        1.000000        39.905556      1.000000          63.852600   \n",
       "\n",
       "       Wind Bearing (degrees)  Visibility (km)  Pressure (millibars)  \\\n",
       "count            96453.000000     96453.000000          96453.000000   \n",
       "mean               187.509232        10.347325           1003.235956   \n",
       "std                107.383428         4.192123            116.969906   \n",
       "min                  0.000000         0.000000              0.000000   \n",
       "25%                116.000000         8.339800           1011.900000   \n",
       "50%                180.000000        10.046400           1016.450000   \n",
       "75%                290.000000        14.812000           1021.090000   \n",
       "max                359.000000        16.100000           1046.380000   \n",
       "\n",
       "              Month          Hour  \n",
       "count  96453.000000  96453.000000  \n",
       "mean       6.523799     11.500327  \n",
       "std        3.448495      6.922081  \n",
       "min        1.000000      0.000000  \n",
       "25%        4.000000      6.000000  \n",
       "50%        7.000000     12.000000  \n",
       "75%       10.000000     18.000000  \n",
       "max       12.000000     23.000000  "
      ]
     },
     "execution_count": 5,
     "metadata": {},
     "output_type": "execute_result"
    }
   ],
   "source": [
    "dataset.describe()"
   ]
  },
  {
   "cell_type": "code",
   "execution_count": 6,
   "metadata": {
    "colab": {
     "base_uri": "https://localhost:8080/",
     "height": 175
    },
    "id": "5KA7kszFdgrm",
    "outputId": "6d9d510a-86da-4756-9e83-d858e3a3f780"
   },
   "outputs": [
    {
     "data": {
      "text/html": [
       "<div>\n",
       "<style scoped>\n",
       "    .dataframe tbody tr th:only-of-type {\n",
       "        vertical-align: middle;\n",
       "    }\n",
       "\n",
       "    .dataframe tbody tr th {\n",
       "        vertical-align: top;\n",
       "    }\n",
       "\n",
       "    .dataframe thead th {\n",
       "        text-align: right;\n",
       "    }\n",
       "</style>\n",
       "<table border=\"1\" class=\"dataframe\">\n",
       "  <thead>\n",
       "    <tr style=\"text-align: right;\">\n",
       "      <th></th>\n",
       "      <th>Summary</th>\n",
       "    </tr>\n",
       "  </thead>\n",
       "  <tbody>\n",
       "    <tr>\n",
       "      <th>count</th>\n",
       "      <td>96453</td>\n",
       "    </tr>\n",
       "    <tr>\n",
       "      <th>unique</th>\n",
       "      <td>4</td>\n",
       "    </tr>\n",
       "    <tr>\n",
       "      <th>top</th>\n",
       "      <td>Partly Cloudy</td>\n",
       "    </tr>\n",
       "    <tr>\n",
       "      <th>freq</th>\n",
       "      <td>32290</td>\n",
       "    </tr>\n",
       "  </tbody>\n",
       "</table>\n",
       "</div>"
      ],
      "text/plain": [
       "              Summary\n",
       "count           96453\n",
       "unique              4\n",
       "top     Partly Cloudy\n",
       "freq            32290"
      ]
     },
     "execution_count": 6,
     "metadata": {},
     "output_type": "execute_result"
    }
   ],
   "source": [
    "dataset.describe(include='object')"
   ]
  },
  {
   "cell_type": "markdown",
   "metadata": {
    "id": "cU1oIIOynB2A"
   },
   "source": [
    "## **Features**\n",
    "\n",
    "---\n",
    "\n"
   ]
  },
  {
   "cell_type": "code",
   "execution_count": 7,
   "metadata": {
    "colab": {
     "base_uri": "https://localhost:8080/",
     "height": 354
    },
    "id": "FYcw2IAEnIQO",
    "outputId": "af2e03c4-9ed7-4284-a47e-87572e8d797e"
   },
   "outputs": [
    {
     "data": {
      "text/html": [
       "<div>\n",
       "<style scoped>\n",
       "    .dataframe tbody tr th:only-of-type {\n",
       "        vertical-align: middle;\n",
       "    }\n",
       "\n",
       "    .dataframe tbody tr th {\n",
       "        vertical-align: top;\n",
       "    }\n",
       "\n",
       "    .dataframe thead th {\n",
       "        text-align: right;\n",
       "    }\n",
       "</style>\n",
       "<table border=\"1\" class=\"dataframe\">\n",
       "  <thead>\n",
       "    <tr style=\"text-align: right;\">\n",
       "      <th></th>\n",
       "      <th>Precip Type</th>\n",
       "      <th>Temperature (C)</th>\n",
       "      <th>Humidity</th>\n",
       "      <th>Wind Speed (km/h)</th>\n",
       "      <th>Wind Bearing (degrees)</th>\n",
       "      <th>Visibility (km)</th>\n",
       "      <th>Pressure (millibars)</th>\n",
       "      <th>Month</th>\n",
       "      <th>Hour</th>\n",
       "    </tr>\n",
       "  </thead>\n",
       "  <tbody>\n",
       "    <tr>\n",
       "      <th>0</th>\n",
       "      <td>1</td>\n",
       "      <td>9.472222</td>\n",
       "      <td>0.89</td>\n",
       "      <td>14.1197</td>\n",
       "      <td>251.0</td>\n",
       "      <td>15.8263</td>\n",
       "      <td>1015.13</td>\n",
       "      <td>4</td>\n",
       "      <td>0</td>\n",
       "    </tr>\n",
       "    <tr>\n",
       "      <th>1</th>\n",
       "      <td>1</td>\n",
       "      <td>9.355556</td>\n",
       "      <td>0.86</td>\n",
       "      <td>14.2646</td>\n",
       "      <td>259.0</td>\n",
       "      <td>15.8263</td>\n",
       "      <td>1015.63</td>\n",
       "      <td>4</td>\n",
       "      <td>1</td>\n",
       "    </tr>\n",
       "    <tr>\n",
       "      <th>2</th>\n",
       "      <td>1</td>\n",
       "      <td>9.377778</td>\n",
       "      <td>0.89</td>\n",
       "      <td>3.9284</td>\n",
       "      <td>204.0</td>\n",
       "      <td>14.9569</td>\n",
       "      <td>1015.94</td>\n",
       "      <td>4</td>\n",
       "      <td>2</td>\n",
       "    </tr>\n",
       "    <tr>\n",
       "      <th>3</th>\n",
       "      <td>1</td>\n",
       "      <td>8.288889</td>\n",
       "      <td>0.83</td>\n",
       "      <td>14.1036</td>\n",
       "      <td>269.0</td>\n",
       "      <td>15.8263</td>\n",
       "      <td>1016.41</td>\n",
       "      <td>4</td>\n",
       "      <td>3</td>\n",
       "    </tr>\n",
       "    <tr>\n",
       "      <th>4</th>\n",
       "      <td>1</td>\n",
       "      <td>8.755556</td>\n",
       "      <td>0.83</td>\n",
       "      <td>11.0446</td>\n",
       "      <td>259.0</td>\n",
       "      <td>15.8263</td>\n",
       "      <td>1016.51</td>\n",
       "      <td>4</td>\n",
       "      <td>4</td>\n",
       "    </tr>\n",
       "  </tbody>\n",
       "</table>\n",
       "</div>"
      ],
      "text/plain": [
       "   Precip Type  Temperature (C)  Humidity  Wind Speed (km/h)  \\\n",
       "0            1         9.472222      0.89            14.1197   \n",
       "1            1         9.355556      0.86            14.2646   \n",
       "2            1         9.377778      0.89             3.9284   \n",
       "3            1         8.288889      0.83            14.1036   \n",
       "4            1         8.755556      0.83            11.0446   \n",
       "\n",
       "   Wind Bearing (degrees)  Visibility (km)  Pressure (millibars)  Month  Hour  \n",
       "0                   251.0          15.8263               1015.13      4     0  \n",
       "1                   259.0          15.8263               1015.63      4     1  \n",
       "2                   204.0          14.9569               1015.94      4     2  \n",
       "3                   269.0          15.8263               1016.41      4     3  \n",
       "4                   259.0          15.8263               1016.51      4     4  "
      ]
     },
     "execution_count": 7,
     "metadata": {},
     "output_type": "execute_result"
    }
   ],
   "source": [
    "features=dataset.drop('Summary',axis=1)\n",
    "features.head(5)"
   ]
  },
  {
   "cell_type": "markdown",
   "metadata": {
    "id": "_4lYyGBxnvU2"
   },
   "source": [
    "## **Target**\n",
    "\n",
    "---\n",
    "\n"
   ]
  },
  {
   "cell_type": "code",
   "execution_count": 8,
   "metadata": {
    "colab": {
     "base_uri": "https://localhost:8080/"
    },
    "id": "VEARy4TVn5_n",
    "outputId": "608d6045-c0be-4b20-c458-31b954b677a2"
   },
   "outputs": [
    {
     "data": {
      "text/plain": [
       "0    Partly Cloudy\n",
       "1    Partly Cloudy\n",
       "2    Mostly Cloudy\n",
       "3    Partly Cloudy\n",
       "4    Mostly Cloudy\n",
       "Name: Summary, dtype: object"
      ]
     },
     "execution_count": 8,
     "metadata": {},
     "output_type": "execute_result"
    }
   ],
   "source": [
    "target=dataset['Summary']\n",
    "target.head(5)"
   ]
  },
  {
   "cell_type": "code",
   "execution_count": 9,
   "metadata": {
    "colab": {
     "base_uri": "https://localhost:8080/",
     "height": 896
    },
    "id": "gHa1mdP7oOnt",
    "outputId": "732aac00-b913-4941-ae92-6765b3faea85"
   },
   "outputs": [
    {
     "data": {
      "text/html": [
       "<div>\n",
       "<style scoped>\n",
       "    .dataframe tbody tr th:only-of-type {\n",
       "        vertical-align: middle;\n",
       "    }\n",
       "\n",
       "    .dataframe tbody tr th {\n",
       "        vertical-align: top;\n",
       "    }\n",
       "\n",
       "    .dataframe thead th {\n",
       "        text-align: right;\n",
       "    }\n",
       "</style>\n",
       "<table border=\"1\" class=\"dataframe\">\n",
       "  <thead>\n",
       "    <tr style=\"text-align: right;\">\n",
       "      <th></th>\n",
       "      <th>Summary</th>\n",
       "      <th>Count</th>\n",
       "    </tr>\n",
       "  </thead>\n",
       "  <tbody>\n",
       "    <tr>\n",
       "      <th>0</th>\n",
       "      <td>Partly Cloudy</td>\n",
       "      <td>32290</td>\n",
       "    </tr>\n",
       "    <tr>\n",
       "      <th>1</th>\n",
       "      <td>Mostly Cloudy</td>\n",
       "      <td>28664</td>\n",
       "    </tr>\n",
       "    <tr>\n",
       "      <th>2</th>\n",
       "      <td>Other</td>\n",
       "      <td>18322</td>\n",
       "    </tr>\n",
       "    <tr>\n",
       "      <th>3</th>\n",
       "      <td>Overcast</td>\n",
       "      <td>17177</td>\n",
       "    </tr>\n",
       "  </tbody>\n",
       "</table>\n",
       "</div>"
      ],
      "text/plain": [
       "         Summary  Count\n",
       "0  Partly Cloudy  32290\n",
       "1  Mostly Cloudy  28664\n",
       "2          Other  18322\n",
       "3       Overcast  17177"
      ]
     },
     "execution_count": 9,
     "metadata": {},
     "output_type": "execute_result"
    }
   ],
   "source": [
    "type(target)\n",
    "target_df=target.to_frame()\n",
    "Summary_count=target_df.value_counts().reset_index()\n",
    "Summary_count.columns=[\"Summary\",\"Count\"]\n",
    "Summary_count"
   ]
  },
  {
   "cell_type": "code",
   "execution_count": 10,
   "metadata": {
    "colab": {
     "base_uri": "https://localhost:8080/",
     "height": 424
    },
    "id": "tzt7LHBLWo3l",
    "outputId": "9752f869-7e73-444f-b1ef-3978d5533676"
   },
   "outputs": [
    {
     "data": {
      "text/html": [
       "<div>\n",
       "<style scoped>\n",
       "    .dataframe tbody tr th:only-of-type {\n",
       "        vertical-align: middle;\n",
       "    }\n",
       "\n",
       "    .dataframe tbody tr th {\n",
       "        vertical-align: top;\n",
       "    }\n",
       "\n",
       "    .dataframe thead th {\n",
       "        text-align: right;\n",
       "    }\n",
       "</style>\n",
       "<table border=\"1\" class=\"dataframe\">\n",
       "  <thead>\n",
       "    <tr style=\"text-align: right;\">\n",
       "      <th></th>\n",
       "      <th>Summary</th>\n",
       "    </tr>\n",
       "  </thead>\n",
       "  <tbody>\n",
       "    <tr>\n",
       "      <th>0</th>\n",
       "      <td>Partly Cloudy</td>\n",
       "    </tr>\n",
       "    <tr>\n",
       "      <th>1</th>\n",
       "      <td>Partly Cloudy</td>\n",
       "    </tr>\n",
       "    <tr>\n",
       "      <th>2</th>\n",
       "      <td>Mostly Cloudy</td>\n",
       "    </tr>\n",
       "    <tr>\n",
       "      <th>3</th>\n",
       "      <td>Partly Cloudy</td>\n",
       "    </tr>\n",
       "    <tr>\n",
       "      <th>4</th>\n",
       "      <td>Mostly Cloudy</td>\n",
       "    </tr>\n",
       "    <tr>\n",
       "      <th>...</th>\n",
       "      <td>...</td>\n",
       "    </tr>\n",
       "    <tr>\n",
       "      <th>96448</th>\n",
       "      <td>Partly Cloudy</td>\n",
       "    </tr>\n",
       "    <tr>\n",
       "      <th>96449</th>\n",
       "      <td>Partly Cloudy</td>\n",
       "    </tr>\n",
       "    <tr>\n",
       "      <th>96450</th>\n",
       "      <td>Partly Cloudy</td>\n",
       "    </tr>\n",
       "    <tr>\n",
       "      <th>96451</th>\n",
       "      <td>Partly Cloudy</td>\n",
       "    </tr>\n",
       "    <tr>\n",
       "      <th>96452</th>\n",
       "      <td>Partly Cloudy</td>\n",
       "    </tr>\n",
       "  </tbody>\n",
       "</table>\n",
       "<p>96453 rows × 1 columns</p>\n",
       "</div>"
      ],
      "text/plain": [
       "             Summary\n",
       "0      Partly Cloudy\n",
       "1      Partly Cloudy\n",
       "2      Mostly Cloudy\n",
       "3      Partly Cloudy\n",
       "4      Mostly Cloudy\n",
       "...              ...\n",
       "96448  Partly Cloudy\n",
       "96449  Partly Cloudy\n",
       "96450  Partly Cloudy\n",
       "96451  Partly Cloudy\n",
       "96452  Partly Cloudy\n",
       "\n",
       "[96453 rows x 1 columns]"
      ]
     },
     "execution_count": 10,
     "metadata": {},
     "output_type": "execute_result"
    }
   ],
   "source": [
    "target_df=target.to_frame()\n",
    "target_df"
   ]
  },
  {
   "cell_type": "markdown",
   "metadata": {
    "id": "gbomMi3AITHc"
   },
   "source": [
    "## **Creating Model**"
   ]
  },
  {
   "cell_type": "code",
   "execution_count": 11,
   "metadata": {},
   "outputs": [
    {
     "data": {
      "text/plain": [
       "0        Partly Cloudy\n",
       "1        Partly Cloudy\n",
       "2        Mostly Cloudy\n",
       "3        Partly Cloudy\n",
       "4        Mostly Cloudy\n",
       "             ...      \n",
       "96448    Partly Cloudy\n",
       "96449    Partly Cloudy\n",
       "96450    Partly Cloudy\n",
       "96451    Partly Cloudy\n",
       "96452    Partly Cloudy\n",
       "Name: Summary, Length: 96453, dtype: object"
      ]
     },
     "execution_count": 11,
     "metadata": {},
     "output_type": "execute_result"
    }
   ],
   "source": [
    "input_df = dataset.drop('Summary',axis=1)\n",
    "input_df\n",
    "output_df=dataset['Summary']\n",
    "output_df"
   ]
  },
  {
   "cell_type": "code",
   "execution_count": 12,
   "metadata": {},
   "outputs": [],
   "source": [
    "X,y=input_df.values,output_df.values"
   ]
  },
  {
   "cell_type": "code",
   "execution_count": 13,
   "metadata": {},
   "outputs": [],
   "source": [
    "from sklearn.preprocessing import StandardScaler\n",
    "scaler = StandardScaler()\n",
    "scaler.fit(X)\n",
    "X = scaler.transform(X)"
   ]
  },
  {
   "cell_type": "code",
   "execution_count": 14,
   "metadata": {},
   "outputs": [],
   "source": [
    "from sklearn.model_selection import train_test_split\n",
    "X_train, X_test, y_train, y_test = train_test_split(X, y, test_size=0.20)"
   ]
  },
  {
   "cell_type": "code",
   "execution_count": 15,
   "metadata": {},
   "outputs": [],
   "source": [
    "scaler = StandardScaler()\n",
    "scaler.fit(X_train)\n",
    "X_train = scaler.transform(X_train)\n",
    "X_test = scaler.transform(X_test)"
   ]
  },
  {
   "cell_type": "code",
   "execution_count": 16,
   "metadata": {
    "colab": {
     "base_uri": "https://localhost:8080/",
     "height": 209
    },
    "id": "WhLJjj2gL9y2",
    "outputId": "ba596379-a8fc-4b25-a62c-d0d01ed6f8b1"
   },
   "outputs": [
    {
     "data": {
      "text/plain": [
       "\"from fast_ml.model_development import train_valid_test_split\\nX_train, y_train, X_valid, y_valid, X_test, y_test = train_valid_test_split(dataset, target = 'Summary',\\n                                                                            train_size=0.7, valid_size=0.15, test_size=0.15)\\nprint(X_train.shape), print(y_train.shape)\\nprint(X_valid.shape), print(y_valid.shape)\\nprint(X_test.shape), print(y_test.shape)\\n\\n\\nfrom imblearn.under_sampling import RandomUnderSampler\\n# Apply undersampling only to the majority class in the training set\\nundersampler = RandomUnderSampler(sampling_strategy='majority', random_state=42)\\nX_train_resampled, y_train_resampled = undersampler.fit_resample(X_train, y_train)\""
      ]
     },
     "execution_count": 16,
     "metadata": {},
     "output_type": "execute_result"
    }
   ],
   "source": [
    "'''from fast_ml.model_development import train_valid_test_split\n",
    "X_train, y_train, X_valid, y_valid, X_test, y_test = train_valid_test_split(dataset, target = 'Summary',\n",
    "                                                                            train_size=0.7, valid_size=0.15, test_size=0.15)\n",
    "print(X_train.shape), print(y_train.shape)\n",
    "print(X_valid.shape), print(y_valid.shape)\n",
    "print(X_test.shape), print(y_test.shape)\n",
    "\n",
    "\n",
    "from imblearn.under_sampling import RandomUnderSampler\n",
    "# Apply undersampling only to the majority class in the training set\n",
    "undersampler = RandomUnderSampler(sampling_strategy='majority', random_state=42)\n",
    "X_train_resampled, y_train_resampled = undersampler.fit_resample(X_train, y_train)'''"
   ]
  },
  {
   "cell_type": "code",
   "execution_count": 17,
   "metadata": {
    "id": "C_yupmgBHro7"
   },
   "outputs": [
    {
     "data": {
      "text/plain": [
       "'from sklearn.preprocessing import StandardScaler\\nscaler = StandardScaler()\\nscaler.fit(X_train)\\nX_train = scaler.transform(X_train)\\nX_test = scaler.transform(X_test)\\nX_valid = scaler.transform(X_valid)'"
      ]
     },
     "execution_count": 17,
     "metadata": {},
     "output_type": "execute_result"
    }
   ],
   "source": [
    "'''from sklearn.preprocessing import StandardScaler\n",
    "scaler = StandardScaler()\n",
    "scaler.fit(X_train)\n",
    "X_train = scaler.transform(X_train)\n",
    "X_test = scaler.transform(X_test)\n",
    "X_valid = scaler.transform(X_valid)'''"
   ]
  },
  {
   "cell_type": "code",
   "execution_count": 18,
   "metadata": {
    "id": "Tjhfp7E0JpzO"
   },
   "outputs": [],
   "source": [
    "#Finding best fit k value\n",
    "from sklearn.neighbors import KNeighborsClassifier\n",
    "error_rate=[]#list that will store the average error rate value of k\n",
    "for i in range (1,31,2):  #Took the range of k from 1 to 30\n",
    "    clf=KNeighborsClassifier(n_neighbors=i,p=1,weights=\"distance\")\n",
    "    clf.fit(X_train,y_train)\n",
    "    predict_i=clf.predict(X_test)\n",
    "    error_rate.append(np.mean(predict_i!=y_test))\n"
   ]
  },
  {
   "cell_type": "code",
   "execution_count": 19,
   "metadata": {
    "colab": {
     "base_uri": "https://localhost:8080/",
     "height": 586
    },
    "id": "xxJOf2xEJ-Nw",
    "outputId": "04aeb14d-58e9-4560-bc91-3d36229a79ea"
   },
   "outputs": [
    {
     "data": {
      "image/png": "[encoded data removed]",
      "text/plain": [
       "<Figure size 1200x600 with 1 Axes>"
      ]
     },
     "metadata": {},
     "output_type": "display_data"
    }
   ],
   "source": [
    "#plotting the error rate vs k graph\n",
    "import matplotlib.pyplot as plt\n",
    "plt.figure(figsize=(12,6))\n",
    "plt.plot(range(1,31,2),error_rate,marker=\"o\",markerfacecolor=\"green\",\n",
    "         linestyle=\"dashed\",color=\"red\",markersize=15)\n",
    "plt.title(\"Error rate vs k value\",fontsize=20)\n",
    "plt.xlabel(\"k- values\",fontsize=20)\n",
    "plt.ylabel(\"error rate\",fontsize=20)\n",
    "plt.xticks(range(1,30,2))\n",
    "plt.show()"
   ]
  },
  {
   "cell_type": "code",
   "execution_count": 20,
   "metadata": {},
   "outputs": [],
   "source": [
    "def make_prediction(model,test_data,):              \n",
    "    y_pred=model.predict(test_data)\n",
    "    y_proba = model.predict_proba(test_data)\n",
    "    return {'y_pred': y_pred,'y_proba':y_proba}\n",
    "def eval_model(model,x_test,Y_test,x_train,Y_train):\n",
    "  \n",
    "   # prediction on test set\n",
    "    y_pred_test=model.predict(X_test)\n",
    "    y_proba_test = model.predict_proba(X_test)\n",
    "   # prediction on train set\n",
    "    y_proba_train = model.predict_proba(X_train)\n",
    "    y_pred_train=model.predict(x_train)\n",
    "\n",
    "    # Calculate ROC AUC for each class (for train)\n",
    "    roc_auc_scores1 = roc_auc_score(y_train, y_proba_train, multi_class='ovr')\n",
    "    roc_auc_scores2= roc_auc_score(y_train, y_proba_train, multi_class='ovo')\n",
    "    # Calculate ROC AUC for each class (for test)\n",
    "    roc_auc_scores3 = roc_auc_score(Y_test, y_proba_test, multi_class='ovr')\n",
    "    roc_auc_scores4= roc_auc_score(Y_test, y_proba_test, multi_class='ovo')\n",
    "    print(\"ROC AUC score:\\n\",\"Train Set:\")\n",
    "    print(\"ovr: \",round(roc_auc_scores1,2),\"  ovo: \",round(roc_auc_scores2,2))\n",
    "    print(\"ROC AUC score:\\n\",\"Test Set:\")\n",
    "    print(\"ovr: \",round(roc_auc_scores3,2),\"  ovo: \",round(roc_auc_scores4,2))\n",
    "\n",
    "    #Confusion Matrix\n",
    "    print(\"\\nconfusion_matrix:\\n\",confusion_matrix(Y_test, y_pred_test))\n",
    "    p=np.round(precision_score(Y_test, y_pred_test,average=None),2)\n",
    "    r=np.round(recall_score(Y_test, y_pred_test,average=None),2)\n",
    "    classificationscore_test=round(model.score(X_test,Y_test),2)\n",
    "    classificationscore_train=round(model.score(x_train,Y_train),2)\n",
    "    print(\"\\nprecision_score: \",p,\"\\nrecall_score: \",r)\n",
    "    print(classification_report(Y_test, y_pred_test),\"\\naccuracy\",round(accuracy_score(Y_test, y_pred_test),2),\"\\nclassificationscore(testset): \",classificationscore_test,\"\\nclassificationscore(trainset): \",classificationscore_train)"
   ]
  },
  {
   "cell_type": "markdown",
   "metadata": {
    "id": "dIHnVbtYGgKG"
   },
   "source": [
    "## **KNN**"
   ]
  },
  {
   "cell_type": "code",
   "execution_count": null,
   "metadata": {},
   "outputs": [],
   "source": [
    "from sklearn.neighbors import KNeighborsClassifier\n",
    "from sklearn.model_selection import GridSearchCV, KFold\n",
    "from sklearn.metrics import roc_auc_score, make_scorer\n",
    "# Assuming you have your feature matrix in 'X' and corresponding labels in 'y'\n",
    "# Define the KNN classifier\n",
    "knn = KNeighborsClassifier()\n",
    "\n",
    "# Define the hyperparameters and their possible values\n",
    "grid_params = {\n",
    "    'n_neighbors': np.arange(1,20) ,\n",
    "    'weights': ['uniform', 'distance'],\n",
    "    'p': [1, 2] #{p = 1: manhattan_distance, p=2: euclidean_distance,default: minkowski_distance}.\n",
    "   # 'metric': ['minkowski','manhattan','euclidean']\n",
    "}\n",
    "# Specify the number of folds (k)\n",
    "kfold = KFold(n_splits=5, shuffle=True, random_state=42)\n",
    "auc_roc_scorer = make_scorer(roc_auc_score,needs_proba=True, multi_class='ovr')\n",
    "# Perform grid search to find the best hyperparameters\n",
    "grid_search = GridSearchCV(knn, grid_params, scoring=auc_roc_scorer, cv=kfold,error_score='raise',return_train_score=True)   # Define the scoring metric as AUC-ROC\n",
    "clf=grid_search.fit(X, y)\n",
    "#best model\n",
    "best_model_dt=clf.best_estimator_\n",
    "\n",
    "# Evaluate the best model's performance on the test set\n",
    "test_auc_roc_score = roc_auc_score(y_test, best_model.predict_proba(X_test), multi_class='ovr')\n",
    "\n",
    "# Print the best hyperparameters, best model and corresponding AUC-ROC score\n",
    "print(\"Best Hyperparameters:\", grid_search.best_params_)\n",
    "print(\"Best AUC-ROC Score:\", grid_search.best_score_)\n",
    "print(\"AUC-ROC Score on Test Set:\", test_auc_roc_score)\n",
    "print(\"Selected Model:\", best_model_dt)"
   ]
  },
  {
   "cell_type": "code",
   "execution_count": 21,
   "metadata": {},
   "outputs": [],
   "source": [
    "# KNN_classifier User-defined function\n",
    "\n",
    "def knn_classifier(X_train, y_train,X_test,n_neighbors=29,p=1,weights=\"distance\"):\n",
    "    '''\n",
    "    This function train the model with KNeighborsClassifier and prints the values of performance \n",
    "    evaluation metrics.\n",
    "    \n",
    "    input:\n",
    "        X_train:  train data of input features.\n",
    "        y_train:  train data of target.\n",
    "        X_test:   test data of input feature, by which we predict the output\n",
    "        n_neighbors:  by default set to 29\n",
    "        p: by default set to 1,\n",
    "        weights: by default set to distance.\n",
    "    '''\n",
    "    fknn = KNeighborsClassifier(n_neighbors=n_neighbors,p=p,weights=weights)\n",
    "    fknn.fit(X_train, y_train)\n",
    "    return fknn\n"
   ]
  },
  {
   "cell_type": "code",
   "execution_count": 22,
   "metadata": {},
   "outputs": [
    {
     "name": "stdout",
     "output_type": "stream",
     "text": [
      "ROC AUC score:\n",
      " Train Set:\n",
      "ovr:  1.0   ovo:  1.0\n",
      "ROC AUC score:\n",
      " Test Set:\n",
      "ovr:  0.83   ovo:  0.83\n",
      "\n",
      "confusion_matrix:\n",
      " [[2843  220  674 2100]\n",
      " [ 306 2097  179 1065]\n",
      " [ 977  196 1799  410]\n",
      " [1345  366  241 4473]]\n",
      "\n",
      "precision_score:  [0.52 0.73 0.62 0.56] \n",
      "recall_score:  [0.49 0.57 0.53 0.7 ]\n",
      "               precision    recall  f1-score   support\n",
      "\n",
      "Mostly Cloudy       0.52      0.49      0.50      5837\n",
      "        Other       0.73      0.57      0.64      3647\n",
      "     Overcast       0.62      0.53      0.57      3382\n",
      "Partly Cloudy       0.56      0.70      0.62      6425\n",
      "\n",
      "     accuracy                           0.58     19291\n",
      "    macro avg       0.61      0.57      0.58     19291\n",
      " weighted avg       0.59      0.58      0.58     19291\n",
      " \n",
      "accuracy 0.58 \n",
      "classificationscore(testset):  0.58 \n",
      "classificationscore(trainset):  1.0\n"
     ]
    }
   ],
   "source": [
    "# Evaluating KNN_Model1  (best parameters)\n",
    "model1 = knn_classifier(X_train,y_train,X_test,29,1,'distance')\n",
    "eval_model(model1,X_test,y_test,X_train,y_train)"
   ]
  },
  {
   "cell_type": "code",
   "execution_count": 23,
   "metadata": {},
   "outputs": [
    {
     "name": "stderr",
     "output_type": "stream",
     "text": [
      "C:\\Users\\Habiba Asif\\anaconda3\\lib\\site-packages\\sklearn\\neighbors\\_classification.py:228: FutureWarning: Unlike other reduction functions (e.g. `skew`, `kurtosis`), the default behavior of `mode` typically preserves the axis it acts along. In SciPy 1.11.0, this behavior will change: the default value of `keepdims` will become False, the `axis` over which the statistic is taken will be eliminated, and the value None will no longer be accepted. Set `keepdims` to True or False to avoid this warning.\n",
      "  mode, _ = stats.mode(_y[neigh_ind, k], axis=1)\n",
      "C:\\Users\\Habiba Asif\\anaconda3\\lib\\site-packages\\sklearn\\neighbors\\_classification.py:228: FutureWarning: Unlike other reduction functions (e.g. `skew`, `kurtosis`), the default behavior of `mode` typically preserves the axis it acts along. In SciPy 1.11.0, this behavior will change: the default value of `keepdims` will become False, the `axis` over which the statistic is taken will be eliminated, and the value None will no longer be accepted. Set `keepdims` to True or False to avoid this warning.\n",
      "  mode, _ = stats.mode(_y[neigh_ind, k], axis=1)\n"
     ]
    },
    {
     "name": "stdout",
     "output_type": "stream",
     "text": [
      "ROC AUC score:\n",
      " Train Set:\n",
      "ovr:  0.86   ovo:  0.87\n",
      "ROC AUC score:\n",
      " Test Set:\n",
      "ovr:  0.81   ovo:  0.82\n",
      "\n",
      "confusion_matrix:\n",
      " [[2966  289  717 1865]\n",
      " [ 420 2097  196  934]\n",
      " [1103  238 1643  398]\n",
      " [1712  469  274 3970]]\n"
     ]
    },
    {
     "name": "stderr",
     "output_type": "stream",
     "text": [
      "C:\\Users\\Habiba Asif\\anaconda3\\lib\\site-packages\\sklearn\\neighbors\\_classification.py:228: FutureWarning: Unlike other reduction functions (e.g. `skew`, `kurtosis`), the default behavior of `mode` typically preserves the axis it acts along. In SciPy 1.11.0, this behavior will change: the default value of `keepdims` will become False, the `axis` over which the statistic is taken will be eliminated, and the value None will no longer be accepted. Set `keepdims` to True or False to avoid this warning.\n",
      "  mode, _ = stats.mode(_y[neigh_ind, k], axis=1)\n",
      "C:\\Users\\Habiba Asif\\anaconda3\\lib\\site-packages\\sklearn\\neighbors\\_classification.py:228: FutureWarning: Unlike other reduction functions (e.g. `skew`, `kurtosis`), the default behavior of `mode` typically preserves the axis it acts along. In SciPy 1.11.0, this behavior will change: the default value of `keepdims` will become False, the `axis` over which the statistic is taken will be eliminated, and the value None will no longer be accepted. Set `keepdims` to True or False to avoid this warning.\n",
      "  mode, _ = stats.mode(_y[neigh_ind, k], axis=1)\n"
     ]
    },
    {
     "name": "stdout",
     "output_type": "stream",
     "text": [
      "\n",
      "precision_score:  [0.48 0.68 0.58 0.55] \n",
      "recall_score:  [0.51 0.57 0.49 0.62]\n",
      "               precision    recall  f1-score   support\n",
      "\n",
      "Mostly Cloudy       0.48      0.51      0.49      5837\n",
      "        Other       0.68      0.57      0.62      3647\n",
      "     Overcast       0.58      0.49      0.53      3382\n",
      "Partly Cloudy       0.55      0.62      0.58      6425\n",
      "\n",
      "     accuracy                           0.55     19291\n",
      "    macro avg       0.57      0.55      0.56     19291\n",
      " weighted avg       0.56      0.55      0.55     19291\n",
      " \n",
      "accuracy 0.55 \n",
      "classificationscore(testset):  0.55 \n",
      "classificationscore(trainset):  0.62\n"
     ]
    }
   ],
   "source": [
    "# Evaluating KNN_Model 2\n",
    "\n",
    "knn2=knn_classifier(X_train,y_train,X_test,n_neighbors=15,p=2,weights='uniform')\n",
    "eval_model(knn2,X_test,y_test,X_train,y_train)"
   ]
  },
  {
   "cell_type": "code",
   "execution_count": 24,
   "metadata": {},
   "outputs": [
    {
     "name": "stderr",
     "output_type": "stream",
     "text": [
      "C:\\Users\\Habiba Asif\\anaconda3\\lib\\site-packages\\sklearn\\neighbors\\_classification.py:228: FutureWarning: Unlike other reduction functions (e.g. `skew`, `kurtosis`), the default behavior of `mode` typically preserves the axis it acts along. In SciPy 1.11.0, this behavior will change: the default value of `keepdims` will become False, the `axis` over which the statistic is taken will be eliminated, and the value None will no longer be accepted. Set `keepdims` to True or False to avoid this warning.\n",
      "  mode, _ = stats.mode(_y[neigh_ind, k], axis=1)\n",
      "C:\\Users\\Habiba Asif\\anaconda3\\lib\\site-packages\\sklearn\\neighbors\\_classification.py:228: FutureWarning: Unlike other reduction functions (e.g. `skew`, `kurtosis`), the default behavior of `mode` typically preserves the axis it acts along. In SciPy 1.11.0, this behavior will change: the default value of `keepdims` will become False, the `axis` over which the statistic is taken will be eliminated, and the value None will no longer be accepted. Set `keepdims` to True or False to avoid this warning.\n",
      "  mode, _ = stats.mode(_y[neigh_ind, k], axis=1)\n"
     ]
    },
    {
     "name": "stdout",
     "output_type": "stream",
     "text": [
      "ROC AUC score:\n",
      " Train Set:\n",
      "ovr:  0.85   ovo:  0.86\n",
      "ROC AUC score:\n",
      " Test Set:\n",
      "ovr:  0.82   ovo:  0.82\n",
      "\n",
      "confusion_matrix:\n",
      " [[2947  244  660 1986]\n",
      " [ 365 2076  176 1030]\n",
      " [1123  222 1647  390]\n",
      " [1547  407  245 4226]]\n"
     ]
    },
    {
     "name": "stderr",
     "output_type": "stream",
     "text": [
      "C:\\Users\\Habiba Asif\\anaconda3\\lib\\site-packages\\sklearn\\neighbors\\_classification.py:228: FutureWarning: Unlike other reduction functions (e.g. `skew`, `kurtosis`), the default behavior of `mode` typically preserves the axis it acts along. In SciPy 1.11.0, this behavior will change: the default value of `keepdims` will become False, the `axis` over which the statistic is taken will be eliminated, and the value None will no longer be accepted. Set `keepdims` to True or False to avoid this warning.\n",
      "  mode, _ = stats.mode(_y[neigh_ind, k], axis=1)\n",
      "C:\\Users\\Habiba Asif\\anaconda3\\lib\\site-packages\\sklearn\\neighbors\\_classification.py:228: FutureWarning: Unlike other reduction functions (e.g. `skew`, `kurtosis`), the default behavior of `mode` typically preserves the axis it acts along. In SciPy 1.11.0, this behavior will change: the default value of `keepdims` will become False, the `axis` over which the statistic is taken will be eliminated, and the value None will no longer be accepted. Set `keepdims` to True or False to avoid this warning.\n",
      "  mode, _ = stats.mode(_y[neigh_ind, k], axis=1)\n"
     ]
    },
    {
     "name": "stdout",
     "output_type": "stream",
     "text": [
      "\n",
      "precision_score:  [0.49 0.7  0.6  0.55] \n",
      "recall_score:  [0.5  0.57 0.49 0.66]\n",
      "               precision    recall  f1-score   support\n",
      "\n",
      "Mostly Cloudy       0.49      0.50      0.50      5837\n",
      "        Other       0.70      0.57      0.63      3647\n",
      "     Overcast       0.60      0.49      0.54      3382\n",
      "Partly Cloudy       0.55      0.66      0.60      6425\n",
      "\n",
      "     accuracy                           0.56     19291\n",
      "    macro avg       0.59      0.55      0.57     19291\n",
      " weighted avg       0.57      0.56      0.56     19291\n",
      " \n",
      "accuracy 0.56 \n",
      "classificationscore(testset):  0.56 \n",
      "classificationscore(trainset):  0.61\n"
     ]
    }
   ],
   "source": [
    "# Evaluating KNN_Model 3\n",
    "\n",
    "knn3=knn_classifier(X_train,y_train,X_test,n_neighbors=25,p=1,weights='uniform')\n",
    "eval_model(knn3,X_test,y_test,X_train,y_train)"
   ]
  },
  {
   "cell_type": "markdown",
   "metadata": {},
   "source": [
    "## **Decision Tree**"
   ]
  },
  {
   "cell_type": "code",
   "execution_count": 25,
   "metadata": {},
   "outputs": [],
   "source": [
    "def DecTree(X_train,y_train,X_test,max_depth=None, min_samples_split= 2, min_samples_leaf= 2,criterion='gini'):\n",
    "    '''\n",
    "    This function train the model using Logistic Regression and prints the values of performance \n",
    "    evaluation metrics.\n",
    "    \n",
    "    parameters:\n",
    "        X_train:       train data of input features.\n",
    "        y_train:       train data of target.\n",
    "        X_test:        test data of input feature, by which we predict the output\n",
    "        multi_class:   by default set to 'auto'\n",
    "        max_depth:     maximum depth of tree, be default set to None\n",
    "        min_samples_split:   by default its value is 2\n",
    "        min_samples_leaf:    by default its value is 2\n",
    "        criterion:           the criteria of impurity selection, by default gini index is used\n",
    "    '''\n",
    "    flogreg = DecisionTreeClassifier(max_depth=max_depth, min_samples_split= min_samples_split, min_samples_leaf= min_samples_leaf,criterion=criterion,random_state=42)\n",
    "    flogreg.fit(X_train, y_train)\n",
    "    return flogreg"
   ]
  },
  {
   "cell_type": "code",
   "execution_count": 47,
   "metadata": {},
   "outputs": [
    {
     "name": "stdout",
     "output_type": "stream",
     "text": [
      "Best Hyperparameters: {'criterion': 'entropy', 'max_depth': 10, 'min_samples_leaf': 4, 'min_samples_split': 10}\n",
      "Best AUC-ROC Score: 0.7599283640587953\n",
      "AUC-ROC Score on Test Set: 0.805241067470952\n",
      "Selected Model: DecisionTreeClassifier(criterion='entropy', max_depth=10, min_samples_leaf=4,\n",
      "                       min_samples_split=10)\n"
     ]
    }
   ],
   "source": [
    "from sklearn.model_selection import GridSearchCV\n",
    "from sklearn.tree import DecisionTreeClassifier\n",
    "from sklearn.metrics import make_scorer, roc_auc_score\n",
    "\n",
    "# Create a decision tree classifier\n",
    "dt = DecisionTreeClassifier()\n",
    "\n",
    "# Define the hyperparameters to tune\n",
    "param_grid = {\n",
    "    'max_depth': [None, 5, 10],                    # Try different maximum depths of the tree\n",
    "    'min_samples_split': [2, 5, 10],                # Try different minimum number of samples required to split an internal node\n",
    "    'min_samples_leaf': [1, 2, 4],                  # Try different minimum number of samples required to be at a leaf node\n",
    "                                                    # Try different options for the maximum number of features to consider when looking for the best split\n",
    "    'criterion': ['gini', 'entropy']                # Try different impurity criteria (Gini index or entropy)\n",
    "}\n",
    "\n",
    "# Create AUC-ROC scorer\n",
    "auc_roc_scorer = make_scorer(roc_auc_score,needs_proba=True, multi_class='ovr')\n",
    "\n",
    "# Perform grid search with cross-validation\n",
    "grid_search = GridSearchCV(dt, param_grid, scoring=auc_roc_scorer, cv=5)\n",
    "clf=grid_search.fit(X, y)\n",
    "\n",
    "#best model\n",
    "best_model_dt=clf.best_estimator_\n",
    "\n",
    "# Evaluate the best model's performance on the test set\n",
    "test_auc_roc_score = roc_auc_score(y_test, best_model_dt.predict_proba(X_test), multi_class='ovr')\n",
    "\n",
    "# Print the best hyperparameters, best model and corresponding AUC-ROC score\n",
    "print(\"Best Hyperparameters:\", grid_search.best_params_)\n",
    "print(\"Best AUC-ROC Score:\", grid_search.best_score_)\n",
    "print(\"AUC-ROC Score on Test Set:\", test_auc_roc_score)\n",
    "print(\"Selected Model:\", best_model_dt)"
   ]
  },
  {
   "cell_type": "code",
   "execution_count": 27,
   "metadata": {},
   "outputs": [
    {
     "name": "stdout",
     "output_type": "stream",
     "text": [
      "ROC AUC score:\n",
      " Train Set:\n",
      "ovr:  0.81   ovo:  0.82\n",
      "ROC AUC score:\n",
      " Test Set:\n",
      "ovr:  0.79   ovo:  0.8\n",
      "\n",
      "confusion_matrix:\n",
      " [[2553  125  849 2310]\n",
      " [ 397 1896  203 1151]\n",
      " [1197   53 1609  523]\n",
      " [1591  266  346 4222]]\n",
      "\n",
      "precision_score:  [0.44 0.81 0.54 0.51] \n",
      "recall_score:  [0.44 0.52 0.48 0.66]\n",
      "               precision    recall  f1-score   support\n",
      "\n",
      "Mostly Cloudy       0.44      0.44      0.44      5837\n",
      "        Other       0.81      0.52      0.63      3647\n",
      "     Overcast       0.54      0.48      0.50      3382\n",
      "Partly Cloudy       0.51      0.66      0.58      6425\n",
      "\n",
      "     accuracy                           0.53     19291\n",
      "    macro avg       0.58      0.52      0.54     19291\n",
      " weighted avg       0.55      0.53      0.53     19291\n",
      " \n",
      "accuracy 0.53 \n",
      "classificationscore(testset):  0.53 \n",
      "classificationscore(trainset):  0.56\n"
     ]
    }
   ],
   "source": [
    "#Best Model\n",
    "fdt1 = DecisionTreeClassifier(criterion='entropy', max_depth= 10, min_samples_leaf= 4, min_samples_split= 10)\n",
    "fdt1.fit(X_train, y_train)\n",
    "eval_model(fdt1,X_test,y_test,X_train,y_train)"
   ]
  },
  {
   "cell_type": "code",
   "execution_count": 28,
   "metadata": {},
   "outputs": [
    {
     "name": "stdout",
     "output_type": "stream",
     "text": [
      "ROC AUC score:\n",
      " Train Set:\n",
      "ovr:  0.81   ovo:  0.82\n",
      "ROC AUC score:\n",
      " Test Set:\n",
      "ovr:  0.79   ovo:  0.8\n",
      "\n",
      "confusion_matrix:\n",
      " [[2713  155  756 2213]\n",
      " [ 470 1985  147 1045]\n",
      " [1173   70 1573  566]\n",
      " [1745  353  259 4068]]\n",
      "\n",
      "precision_score:  [0.44 0.77 0.58 0.52] \n",
      "recall_score:  [0.46 0.54 0.47 0.63]\n",
      "               precision    recall  f1-score   support\n",
      "\n",
      "Mostly Cloudy       0.44      0.46      0.45      5837\n",
      "        Other       0.77      0.54      0.64      3647\n",
      "     Overcast       0.58      0.47      0.51      3382\n",
      "Partly Cloudy       0.52      0.63      0.57      6425\n",
      "\n",
      "     accuracy                           0.54     19291\n",
      "    macro avg       0.58      0.53      0.54     19291\n",
      " weighted avg       0.55      0.54      0.54     19291\n",
      " \n",
      "accuracy 0.54 \n",
      "classificationscore(testset):  0.54 \n",
      "classificationscore(trainset):  0.56\n"
     ]
    }
   ],
   "source": [
    "#2nd model\n",
    "fdt2 = DecisionTreeClassifier(criterion='gini', max_depth= 10, min_samples_leaf= 4, min_samples_split= 10)\n",
    "fdt2.fit(X_train, y_train)\n",
    "eval_model(fdt2,X_test,y_test,X_train,y_train)"
   ]
  },
  {
   "cell_type": "code",
   "execution_count": 32,
   "metadata": {},
   "outputs": [
    {
     "name": "stdout",
     "output_type": "stream",
     "text": [
      "ROC AUC score:\n",
      " Train Set:\n",
      "ovr:  0.81   ovo:  0.82\n",
      "ROC AUC score:\n",
      " Test Set:\n",
      "ovr:  0.79   ovo:  0.8\n",
      "\n",
      "confusion_matrix:\n",
      " [[2715  154  754 2214]\n",
      " [ 470 1984  147 1046]\n",
      " [1173   70 1573  566]\n",
      " [1746  351  258 4070]]\n",
      "\n",
      "precision_score:  [0.44 0.78 0.58 0.52] \n",
      "recall_score:  [0.47 0.54 0.47 0.63]\n",
      "               precision    recall  f1-score   support\n",
      "\n",
      "Mostly Cloudy       0.44      0.47      0.45      5837\n",
      "        Other       0.78      0.54      0.64      3647\n",
      "     Overcast       0.58      0.47      0.51      3382\n",
      "Partly Cloudy       0.52      0.63      0.57      6425\n",
      "\n",
      "     accuracy                           0.54     19291\n",
      "    macro avg       0.58      0.53      0.54     19291\n",
      " weighted avg       0.55      0.54      0.54     19291\n",
      " \n",
      "accuracy 0.54 \n",
      "classificationscore(testset):  0.54 \n",
      "classificationscore(trainset):  0.56\n"
     ]
    }
   ],
   "source": [
    "#3rd Model\n",
    "fdt3 = DecisionTreeClassifier(criterion='gini', max_depth=10, min_samples_leaf= 4, min_samples_split= 4)\n",
    "fdt3.fit(X_train, y_train)\n",
    "eval_model(fdt3,X_test,y_test,X_train,y_train)"
   ]
  },
  {
   "cell_type": "markdown",
   "metadata": {},
   "source": [
    "## **Logistic Regression**"
   ]
  },
  {
   "cell_type": "code",
   "execution_count": null,
   "metadata": {
    "colab": {
     "base_uri": "https://localhost:8080/"
    },
    "id": "PHIC-XuObED4",
    "outputId": "19403037-08e5-4d00-a21c-777222a433fa"
   },
   "outputs": [],
   "source": [
    "# K-Fold Validation for Logistic Regression\n",
    "\n",
    "# Create a Logistic Regression classifier\n",
    "logreg = LogisticRegression(multi_class='auto', solver='lbfgs', max_iter=500)\n",
    "\n",
    "# Define the hyperparameters to tune\n",
    "param_grid = {\n",
    "    'penalty': ['l2'],                 # Regularization penalty options\n",
    "    'C': [0.1, 1.0, 10.0],                    # Inverse of regularization strength\n",
    "    'solver': ['lbfgs', 'newton-cg']           # Solver options\n",
    "}\n",
    "\n",
    "# Create AUC-ROC scorer\n",
    "auc_roc_scorer = make_scorer(roc_auc_score,needs_proba=True, multi_class='ovr')\n",
    "\n",
    "# Perform grid search with cross-validation\n",
    "grid_search = GridSearchCV(logreg, param_grid, scoring=auc_roc_scorer, cv=5)\n",
    "clf=grid_search.fit(X, y)\n",
    "\n",
    "#best model\n",
    "best_model_log=clf.best_estimator_\n",
    "\n",
    "# Evaluate the best model's performance on the test set\n",
    "test_auc_roc_score = roc_auc_score(y_test, best_model_log.predict_proba(X_test), multi_class='ovr')\n",
    "\n",
    "# Print the best hyperparameters, best model and corresponding AUC-ROC score\n",
    "print(\"Best Hyperparameters:\", grid_search.best_params_)\n",
    "print(\"Best AUC-ROC Score:\", grid_search.best_score_)\n",
    "print(\"AUC-ROC Score on Test Set:\", test_auc_roc_score)\n",
    "print(\"Selected Model:\", best_model_log)\n"
   ]
  },
  {
   "cell_type": "code",
   "execution_count": null,
   "metadata": {},
   "outputs": [],
   "source": [
    "def logisticRegr(X_train,y_train,X_test,multi_class='auto', C= 10.0, penalty= 'l2', solver= 'newton-cg',max_iter=1000,weight=None):\n",
    "    '''\n",
    "    This function train the model using Logistic Regression and prints the values of performance \n",
    "    evaluation metrics.\n",
    "    \n",
    "    parameters:\n",
    "        X_train:       train data of input features.\n",
    "        y_train:       train data of target.\n",
    "        X_test:        test data of input feature, by which we predict the output\n",
    "        multi_class:   by default set to 'auto'\n",
    "        C:             by default set to 10.0\n",
    "        penalty:       by default set to 'l2'\n",
    "        solver:        by default set to 'newton-cg'\n",
    "        max_iter:      by default set to 1000\n",
    "    '''\n",
    "    flogreg = LogisticRegression(multi_class=multi_class, C=C, penalty=penalty, solver=solver,max_iter=max_iter,random_state=42)\n",
    "    flogreg.fit(X_train, y_train)\n",
    "    return flogreg"
   ]
  },
  {
   "cell_type": "code",
   "execution_count": null,
   "metadata": {},
   "outputs": [],
   "source": [
    "# Evaluating Logistic_Regression_Model 1\n",
    "logreg1=logisticRegr(X_train,y_train,X_test,multi_class='auto', C= 10.0, penalty= 'l2', solver= 'newton-cg',max_iter=1000)\n",
    "eval_model(logreg1,X_test,y_test)"
   ]
  },
  {
   "cell_type": "code",
   "execution_count": null,
   "metadata": {},
   "outputs": [],
   "source": [
    "# Evaluating Logistic_Regression_Model 2  \n",
    "\n",
    "logreg2=logisticRegr(X_train,y_train,X_test,multi_class='auto', C= 0.01, penalty= 'l2', solver= 'lbfgs',max_iter=1000,weight='balanced')\n",
    "eval_model(logreg2,X_test,y_test,X_train,y_train)"
   ]
  },
  {
   "cell_type": "code",
   "execution_count": null,
   "metadata": {},
   "outputs": [],
   "source": [
    "# Evaluating Logistic_Regression_Model 3\n",
    "\n",
    "logreg3=logisticRegr(X_train,y_train,X_test,multi_class='auto', C= 0.1, penalty= 'l2', solver= 'newton-cg',max_iter=1500)\n",
    "eval_model(logreg3,X_test,y_test,X_train,y_train)"
   ]
  },
  {
   "cell_type": "markdown",
   "metadata": {},
   "source": [
    "## MLP_CLASSIFIER"
   ]
  },
  {
   "cell_type": "code",
   "execution_count": null,
   "metadata": {},
   "outputs": [],
   "source": [
    "# K-Fold for Multilayer Perceptron\n",
    "\n",
    "# Define the parameter grid for GridSearchCV\n",
    "param_grid = {\n",
    "    'hidden_layer_sizes': [(100,), (100, 50), (50, 50)],\n",
    "    'activation': ['relu', 'tanh'],\n",
    "    'solver': ['adam', 'sgd'],\n",
    "    'alpha': [0.0001, 0.001, 0.01],\n",
    "    'learning_rate': ['constant', 'invscaling', 'adaptive']\n",
    "}\n",
    "\n",
    "# Create an MLPClassifier object\n",
    "mlp = MLPClassifier(early_stopping=True, validation_fraction=0.2, n_iter_no_change=5, tol=1e-4)\n",
    "\n",
    "# Create a scorer for roc_auc_score\n",
    "mlp_scorer = make_scorer(roc_auc_score, needs_proba=True, multi_class='ovr')\n",
    "\n",
    "# Create a GridSearchCV object\n",
    "grid_search = GridSearchCV(mlp, param_grid, cv=5, scoring=mlp_scorer)\n",
    "\n",
    "clf=grid_search.fit(X, y)\n",
    "\n",
    "#best model\n",
    "best_model_mlp=clf.best_estimator_\n",
    "\n",
    "# Evaluate the best model's performance on the test set\n",
    "test_auc_roc_score = roc_auc_score(y_test, best_model_mlp.predict_proba(X_test), multi_class='ovr')\n",
    "\n",
    "# Print the best hyperparameters, best model and corresponding AUC-ROC score\n",
    "print(\"Best Hyperparameters:\", grid_search.best_params_)\n",
    "print(\"Best AUC-ROC Score:\", grid_search.best_score_)\n",
    "print(\"AUC-ROC Score on Test Set:\", test_auc_roc_score)\n",
    "print(\"Selected Model:\", best_model_mlp)"
   ]
  },
  {
   "cell_type": "code",
   "execution_count": 33,
   "metadata": {},
   "outputs": [],
   "source": [
    "def mlp_Classifier(X_train,y_train,X_test,hidden_layer_sizes=(100,50),alpha=0.0001,learning_rate='constant', activation='relu', solver='adam'):\n",
    "    '''\n",
    "    This function train the model using Logistic Regression and prints the values of performance \n",
    "    evaluation metrics.\n",
    "    \n",
    "    parameters:\n",
    "        X_train:       train data of input features.\n",
    "        y_train:       train data of target.\n",
    "        X_test:        test data of input feature, by which we predict the output\n",
    "        hidden_laye_size:  two hidden layers, by default(100,50)\n",
    "        alpha: by default value is 0.0001\n",
    "        learning_rate:  by default value is constant\n",
    "        activation :    by default the activation function used is relu\n",
    "        solver:         by default 'adam' is used as a solver\n",
    "        \n",
    "        '''\n",
    "    mlp = MLPClassifier(hidden_layer_sizes=hidden_layer_sizes,alpha=alpha,learning_rate=learning_rate, activation=activation, solver=solver, random_state=42)\n",
    "\n",
    "    # Train the model\n",
    "    mlp.fit(X_train, y_train)\n",
    "\n",
    "    return mlp"
   ]
  },
  {
   "cell_type": "code",
   "execution_count": 34,
   "metadata": {},
   "outputs": [
    {
     "name": "stderr",
     "output_type": "stream",
     "text": [
      "C:\\Users\\Habiba Asif\\anaconda3\\lib\\site-packages\\sklearn\\neural_network\\_multilayer_perceptron.py:692: ConvergenceWarning: Stochastic Optimizer: Maximum iterations (200) reached and the optimization hasn't converged yet.\n",
      "  warnings.warn(\n"
     ]
    },
    {
     "name": "stdout",
     "output_type": "stream",
     "text": [
      "ROC AUC score:\n",
      " Train Set:\n",
      "ovr:  0.85   ovo:  0.86\n",
      "ROC AUC score:\n",
      " Test Set:\n",
      "ovr:  0.82   ovo:  0.84\n",
      "\n",
      "confusion_matrix:\n",
      " [[2762  178 1126 1771]\n",
      " [ 306 2092  225 1024]\n",
      " [ 852   74 2135  321]\n",
      " [1607  397  427 3994]]\n",
      "\n",
      "precision_score:  [0.5  0.76 0.55 0.56] \n",
      "recall_score:  [0.47 0.57 0.63 0.62]\n",
      "               precision    recall  f1-score   support\n",
      "\n",
      "Mostly Cloudy       0.50      0.47      0.49      5837\n",
      "        Other       0.76      0.57      0.65      3647\n",
      "     Overcast       0.55      0.63      0.59      3382\n",
      "Partly Cloudy       0.56      0.62      0.59      6425\n",
      "\n",
      "     accuracy                           0.57     19291\n",
      "    macro avg       0.59      0.57      0.58     19291\n",
      " weighted avg       0.58      0.57      0.57     19291\n",
      " \n",
      "accuracy 0.57 \n",
      "classificationscore(testset):  0.57 \n",
      "classificationscore(trainset):  0.6\n"
     ]
    }
   ],
   "source": [
    "# BEST MODEL:\n",
    "mlp1=mlp_Classifier(X_train,y_train,X_test,hidden_layer_sizes=(100,50),alpha=0.0001,learning_rate='constant', activation='relu', solver='adam')\n",
    "\n",
    "eval_model(mlp1,X_test,y_test,X_train,y_train)"
   ]
  },
  {
   "cell_type": "code",
   "execution_count": 35,
   "metadata": {},
   "outputs": [
    {
     "name": "stderr",
     "output_type": "stream",
     "text": [
      "C:\\Users\\Habiba Asif\\anaconda3\\lib\\site-packages\\sklearn\\neural_network\\_multilayer_perceptron.py:692: ConvergenceWarning: Stochastic Optimizer: Maximum iterations (200) reached and the optimization hasn't converged yet.\n",
      "  warnings.warn(\n"
     ]
    },
    {
     "name": "stdout",
     "output_type": "stream",
     "text": [
      "ROC AUC score:\n",
      " Train Set:\n",
      "ovr:  0.85   ovo:  0.86\n",
      "ROC AUC score:\n",
      " Test Set:\n",
      "ovr:  0.82   ovo:  0.84\n",
      "\n",
      "confusion_matrix:\n",
      " [[2762  178 1126 1771]\n",
      " [ 306 2092  225 1024]\n",
      " [ 852   74 2135  321]\n",
      " [1607  397  427 3994]]\n",
      "\n",
      "precision_score:  [0.5  0.76 0.55 0.56] \n",
      "recall_score:  [0.47 0.57 0.63 0.62]\n",
      "               precision    recall  f1-score   support\n",
      "\n",
      "Mostly Cloudy       0.50      0.47      0.49      5837\n",
      "        Other       0.76      0.57      0.65      3647\n",
      "     Overcast       0.55      0.63      0.59      3382\n",
      "Partly Cloudy       0.56      0.62      0.59      6425\n",
      "\n",
      "     accuracy                           0.57     19291\n",
      "    macro avg       0.59      0.57      0.58     19291\n",
      " weighted avg       0.58      0.57      0.57     19291\n",
      " \n",
      "accuracy 0.57 \n",
      "classificationscore(testset):  0.57 \n",
      "classificationscore(trainset):  0.6\n"
     ]
    }
   ],
   "source": [
    "#  MODEL 2:\n",
    "\n",
    "mlp2 = mlp_Classifier(X_train,y_train,X_test,hidden_layer_sizes=(100,50),alpha=0.0001,learning_rate='constant', activation='relu', solver='adam')\n",
    "eval_model(mlp2,X_test,y_test,X_train,y_train)"
   ]
  },
  {
   "cell_type": "code",
   "execution_count": 36,
   "metadata": {},
   "outputs": [
    {
     "name": "stderr",
     "output_type": "stream",
     "text": [
      "C:\\Users\\Habiba Asif\\anaconda3\\lib\\site-packages\\sklearn\\neural_network\\_multilayer_perceptron.py:692: ConvergenceWarning: Stochastic Optimizer: Maximum iterations (200) reached and the optimization hasn't converged yet.\n",
      "  warnings.warn(\n"
     ]
    },
    {
     "name": "stdout",
     "output_type": "stream",
     "text": [
      "ROC AUC score:\n",
      " Train Set:\n",
      "ovr:  0.85   ovo:  0.86\n",
      "ROC AUC score:\n",
      " Test Set:\n",
      "ovr:  0.82   ovo:  0.84\n",
      "\n",
      "confusion_matrix:\n",
      " [[2762  178 1126 1771]\n",
      " [ 306 2092  225 1024]\n",
      " [ 852   74 2135  321]\n",
      " [1607  397  427 3994]]\n",
      "\n",
      "precision_score:  [0.5  0.76 0.55 0.56] \n",
      "recall_score:  [0.47 0.57 0.63 0.62]\n",
      "               precision    recall  f1-score   support\n",
      "\n",
      "Mostly Cloudy       0.50      0.47      0.49      5837\n",
      "        Other       0.76      0.57      0.65      3647\n",
      "     Overcast       0.55      0.63      0.59      3382\n",
      "Partly Cloudy       0.56      0.62      0.59      6425\n",
      "\n",
      "     accuracy                           0.57     19291\n",
      "    macro avg       0.59      0.57      0.58     19291\n",
      " weighted avg       0.58      0.57      0.57     19291\n",
      " \n",
      "accuracy 0.57 \n",
      "classificationscore(testset):  0.57 \n",
      "classificationscore(trainset):  0.6\n"
     ]
    }
   ],
   "source": [
    "# MODEL 3:\n",
    "\n",
    "mlp3 = mlp_Classifier(X_train,y_train,X_test,hidden_layer_sizes=(100,50),alpha=0.0001,learning_rate='constant', activation='relu', solver='adam')\n",
    "eval_model(mlp3,X_test,y_test,X_train,y_train)"
   ]
  },
  {
   "cell_type": "markdown",
   "metadata": {},
   "source": [
    "# Saving Models"
   ]
  },
  {
   "cell_type": "code",
   "execution_count": 37,
   "metadata": {},
   "outputs": [],
   "source": [
    "import pickle"
   ]
  },
  {
   "cell_type": "code",
   "execution_count": 38,
   "metadata": {},
   "outputs": [],
   "source": [
    "with open(\"knn1.pkl\", 'wb') as file:\n",
    "    pickle.dump(model1, file)"
   ]
  },
  {
   "cell_type": "code",
   "execution_count": 39,
   "metadata": {},
   "outputs": [],
   "source": [
    "with open(\"knn2.pkl\", 'wb') as file:\n",
    "    pickle.dump(knn2, file)"
   ]
  },
  {
   "cell_type": "code",
   "execution_count": 40,
   "metadata": {},
   "outputs": [],
   "source": [
    "with open(\"knn3.pkl\", 'wb') as file:\n",
    "    pickle.dump(knn3, file)"
   ]
  },
  {
   "cell_type": "code",
   "execution_count": 41,
   "metadata": {},
   "outputs": [],
   "source": [
    "with open(\"fdt1.pkl\", 'wb') as file:\n",
    "    pickle.dump(fdt1, file)"
   ]
  },
  {
   "cell_type": "code",
   "execution_count": 42,
   "metadata": {},
   "outputs": [],
   "source": [
    "with open(\"fdt2.pkl\", 'wb') as file:\n",
    "    pickle.dump(fdt2, file)"
   ]
  },
  {
   "cell_type": "code",
   "execution_count": 43,
   "metadata": {},
   "outputs": [],
   "source": [
    "with open(\"fdt3.pkl\", 'wb') as file:\n",
    "    pickle.dump(fdt3, file)"
   ]
  },
  {
   "cell_type": "code",
   "execution_count": 44,
   "metadata": {},
   "outputs": [],
   "source": [
    "with open(\"mlp1.pkl\", 'wb') as file:\n",
    "    pickle.dump(mlp1, file)"
   ]
  },
  {
   "cell_type": "code",
   "execution_count": 45,
   "metadata": {},
   "outputs": [],
   "source": [
    "with open(\"mlp2.pkl\", 'wb') as file:\n",
    "    pickle.dump(mlp2, file)"
   ]
  },
  {
   "cell_type": "code",
   "execution_count": 46,
   "metadata": {},
   "outputs": [],
   "source": [
    "with open(\"mlp3.pkl\", 'wb') as file:\n",
    "    pickle.dump(mlp3, file)"
   ]
  },
  {
   "cell_type": "markdown",
   "metadata": {},
   "source": [
    "# Graphs"
   ]
  },
  {
   "cell_type": "code",
   "execution_count": 53,
   "metadata": {},
   "outputs": [],
   "source": [
    "with open(\"knn1.pkl\", 'rb') as file:\n",
    "    knn1 = pickle.load(file)"
   ]
  },
  {
   "cell_type": "code",
   "execution_count": 54,
   "metadata": {},
   "outputs": [],
   "source": [
    "with open(\"knn2.pkl\", 'rb') as file:\n",
    "    knn2 = pickle.load(file)"
   ]
  },
  {
   "cell_type": "code",
   "execution_count": 55,
   "metadata": {},
   "outputs": [],
   "source": [
    "with open(\"knn3.pkl\", 'rb') as file:\n",
    "    knn3 = pickle.load(file)"
   ]
  },
  {
   "cell_type": "code",
   "execution_count": 56,
   "metadata": {},
   "outputs": [],
   "source": [
    "with open(\"fdt1.pkl\", 'rb') as file:\n",
    "    fdt1 = pickle.load(file)"
   ]
  },
  {
   "cell_type": "code",
   "execution_count": 57,
   "metadata": {},
   "outputs": [],
   "source": [
    "with open(\"fdt2.pkl\", 'rb') as file:\n",
    "    fdt2 = pickle.load(file)"
   ]
  },
  {
   "cell_type": "code",
   "execution_count": 59,
   "metadata": {},
   "outputs": [],
   "source": [
    "with open(\"fdt3.pkl\", 'rb') as file:\n",
    "    fdt3 = pickle.load(file)"
   ]
  },
  {
   "cell_type": "code",
   "execution_count": 60,
   "metadata": {},
   "outputs": [],
   "source": [
    "with open(\"mlp1.pkl\", 'rb') as file:\n",
    "    mlp1 = pickle.load(file)"
   ]
  },
  {
   "cell_type": "code",
   "execution_count": 61,
   "metadata": {},
   "outputs": [],
   "source": [
    "with open(\"mlp2.pkl\", 'rb') as file:\n",
    "    mlp2 = pickle.load(file)"
   ]
  },
  {
   "cell_type": "code",
   "execution_count": 62,
   "metadata": {},
   "outputs": [],
   "source": [
    "with open(\"mlp3.pkl\", 'rb') as file:\n",
    "    mlp3 = pickle.load(file)"
   ]
  },
  {
   "cell_type": "code",
   "execution_count": 63,
   "metadata": {},
   "outputs": [],
   "source": [
    "# KNN LEARNING CURVES\n",
    "from sklearn.model_selection import learning_curve\n",
    "from sklearn.metrics import make_scorer, roc_auc_score\n",
    "import matplotlib.pyplot as plt\n",
    "from sklearn.model_selection import KFold\n",
    "\n",
    "# Create AUC-ROC scorer\n",
    "auc_roc_scorer = make_scorer(roc_auc_score, needs_proba=True, multi_class='ovr')\n",
    "\n",
    "# Function to plot learning curve\n",
    "def plot_learning_curve(estimator, title, X, y, cv, scoring, train_sizes=np.linspace(0.1, 1.0, 10)):\n",
    "    plt.figure()\n",
    "    plt.title(title)\n",
    "    plt.xlabel(\"Training examples\")\n",
    "    plt.ylabel(\"Score\")\n",
    "    train_sizes, train_scores, test_scores = learning_curve(estimator, X, y, cv=cv, train_sizes=train_sizes, scoring=scoring)\n",
    "    train_scores_mean = np.mean(train_scores, axis=1)\n",
    "    test_scores_mean = np.mean(test_scores, axis=1)\n",
    "    plt.grid()\n",
    "    plt.plot(train_sizes, train_scores_mean, 'o-', color=\"r\", label=\"Training score\")\n",
    "    plt.plot(train_sizes, test_scores_mean, 'o-', color=\"g\", label=\"Cross-validation score\")\n",
    "    plt.legend(loc=\"best\")\n",
    "    return plt\n",
    "\n",
    "# Specify the number of folds (k)\n",
    "kfold = KFold(n_splits=5, shuffle=True, random_state=42)"
   ]
  },
  {
   "cell_type": "code",
   "execution_count": 66,
   "metadata": {},
   "outputs": [
    {
     "data": {
      "image/png": "[encoded data removed]",
      "text/plain": [
       "<Figure size 640x480 with 1 Axes>"
      ]
     },
     "metadata": {},
     "output_type": "display_data"
    }
   ],
   "source": [
    "plot_learning_curve(knn1, \"Learning Curve (KNN best)\", X, y, cv=kfold, scoring=auc_roc_scorer)\n",
    "plt.show()"
   ]
  },
  {
   "cell_type": "code",
   "execution_count": 67,
   "metadata": {},
   "outputs": [
    {
     "data": {
      "image/png": "[encoded data removed]",
      "text/plain": [
       "<Figure size 640x480 with 1 Axes>"
      ]
     },
     "metadata": {},
     "output_type": "display_data"
    }
   ],
   "source": [
    "plot_learning_curve(knn2, \"Learning Curve (KNN 2)\", X, y, cv=kfold, scoring=auc_roc_scorer)\n",
    "plt.show()"
   ]
  },
  {
   "cell_type": "code",
   "execution_count": 68,
   "metadata": {},
   "outputs": [
    {
     "data": {
      "image/png": "[encoded data removed]",
      "text/plain": [
       "<Figure size 640x480 with 1 Axes>"
      ]
     },
     "metadata": {},
     "output_type": "display_data"
    }
   ],
   "source": [
    "plot_learning_curve(knn3, \"Learning Curve (KNN 3)\", X, y, cv=kfold, scoring=auc_roc_scorer)\n",
    "plt.show()"
   ]
  },
  {
   "cell_type": "code",
   "execution_count": 69,
   "metadata": {},
   "outputs": [
    {
     "data": {
      "image/png": "[encoded data removed]",
      "text/plain": [
       "<Figure size 640x480 with 1 Axes>"
      ]
     },
     "metadata": {},
     "output_type": "display_data"
    }
   ],
   "source": [
    "plot_learning_curve(fdt1, \"Learning Curve (Decision Tree best)\", X, y, cv=kfold, scoring=auc_roc_scorer)\n",
    "plt.show()"
   ]
  },
  {
   "cell_type": "code",
   "execution_count": 70,
   "metadata": {},
   "outputs": [
    {
     "data": {
      "image/png": "[encoded data removed]",
      "text/plain": [
       "<Figure size 640x480 with 1 Axes>"
      ]
     },
     "metadata": {},
     "output_type": "display_data"
    }
   ],
   "source": [
    "plot_learning_curve(fdt2, \"Learning Curve (Decision Tree 2)\", X, y, cv=kfold, scoring=auc_roc_scorer)\n",
    "plt.show()"
   ]
  },
  {
   "cell_type": "code",
   "execution_count": 71,
   "metadata": {},
   "outputs": [
    {
     "data": {
      "image/png": "[encoded data removed]",
      "text/plain": [
       "<Figure size 640x480 with 1 Axes>"
      ]
     },
     "metadata": {},
     "output_type": "display_data"
    }
   ],
   "source": [
    "plot_learning_curve(fdt3, \"Learning Curve (Decision Tree 3)\", X, y, cv=kfold, scoring=auc_roc_scorer)\n",
    "plt.show()"
   ]
  },
  {
   "cell_type": "code",
   "execution_count": 72,
   "metadata": {},
   "outputs": [
    {
     "name": "stderr",
     "output_type": "stream",
     "text": [
      "C:\\Users\\Habiba Asif\\anaconda3\\lib\\site-packages\\sklearn\\neural_network\\_multilayer_perceptron.py:692: ConvergenceWarning: Stochastic Optimizer: Maximum iterations (200) reached and the optimization hasn't converged yet.\n",
      "  warnings.warn(\n",
      "C:\\Users\\Habiba Asif\\anaconda3\\lib\\site-packages\\sklearn\\neural_network\\_multilayer_perceptron.py:692: ConvergenceWarning: Stochastic Optimizer: Maximum iterations (200) reached and the optimization hasn't converged yet.\n",
      "  warnings.warn(\n",
      "C:\\Users\\Habiba Asif\\anaconda3\\lib\\site-packages\\sklearn\\neural_network\\_multilayer_perceptron.py:692: ConvergenceWarning: Stochastic Optimizer: Maximum iterations (200) reached and the optimization hasn't converged yet.\n",
      "  warnings.warn(\n",
      "C:\\Users\\Habiba Asif\\anaconda3\\lib\\site-packages\\sklearn\\neural_network\\_multilayer_perceptron.py:692: ConvergenceWarning: Stochastic Optimizer: Maximum iterations (200) reached and the optimization hasn't converged yet.\n",
      "  warnings.warn(\n",
      "C:\\Users\\Habiba Asif\\anaconda3\\lib\\site-packages\\sklearn\\neural_network\\_multilayer_perceptron.py:692: ConvergenceWarning: Stochastic Optimizer: Maximum iterations (200) reached and the optimization hasn't converged yet.\n",
      "  warnings.warn(\n",
      "C:\\Users\\Habiba Asif\\anaconda3\\lib\\site-packages\\sklearn\\neural_network\\_multilayer_perceptron.py:692: ConvergenceWarning: Stochastic Optimizer: Maximum iterations (200) reached and the optimization hasn't converged yet.\n",
      "  warnings.warn(\n",
      "C:\\Users\\Habiba Asif\\anaconda3\\lib\\site-packages\\sklearn\\neural_network\\_multilayer_perceptron.py:692: ConvergenceWarning: Stochastic Optimizer: Maximum iterations (200) reached and the optimization hasn't converged yet.\n",
      "  warnings.warn(\n",
      "C:\\Users\\Habiba Asif\\anaconda3\\lib\\site-packages\\sklearn\\neural_network\\_multilayer_perceptron.py:692: ConvergenceWarning: Stochastic Optimizer: Maximum iterations (200) reached and the optimization hasn't converged yet.\n",
      "  warnings.warn(\n",
      "C:\\Users\\Habiba Asif\\anaconda3\\lib\\site-packages\\sklearn\\neural_network\\_multilayer_perceptron.py:692: ConvergenceWarning: Stochastic Optimizer: Maximum iterations (200) reached and the optimization hasn't converged yet.\n",
      "  warnings.warn(\n",
      "C:\\Users\\Habiba Asif\\anaconda3\\lib\\site-packages\\sklearn\\neural_network\\_multilayer_perceptron.py:692: ConvergenceWarning: Stochastic Optimizer: Maximum iterations (200) reached and the optimization hasn't converged yet.\n",
      "  warnings.warn(\n",
      "C:\\Users\\Habiba Asif\\anaconda3\\lib\\site-packages\\sklearn\\neural_network\\_multilayer_perceptron.py:692: ConvergenceWarning: Stochastic Optimizer: Maximum iterations (200) reached and the optimization hasn't converged yet.\n",
      "  warnings.warn(\n",
      "C:\\Users\\Habiba Asif\\anaconda3\\lib\\site-packages\\sklearn\\neural_network\\_multilayer_perceptron.py:692: ConvergenceWarning: Stochastic Optimizer: Maximum iterations (200) reached and the optimization hasn't converged yet.\n",
      "  warnings.warn(\n",
      "C:\\Users\\Habiba Asif\\anaconda3\\lib\\site-packages\\sklearn\\neural_network\\_multilayer_perceptron.py:692: ConvergenceWarning: Stochastic Optimizer: Maximum iterations (200) reached and the optimization hasn't converged yet.\n",
      "  warnings.warn(\n",
      "C:\\Users\\Habiba Asif\\anaconda3\\lib\\site-packages\\sklearn\\neural_network\\_multilayer_perceptron.py:692: ConvergenceWarning: Stochastic Optimizer: Maximum iterations (200) reached and the optimization hasn't converged yet.\n",
      "  warnings.warn(\n",
      "C:\\Users\\Habiba Asif\\anaconda3\\lib\\site-packages\\sklearn\\neural_network\\_multilayer_perceptron.py:692: ConvergenceWarning: Stochastic Optimizer: Maximum iterations (200) reached and the optimization hasn't converged yet.\n",
      "  warnings.warn(\n",
      "C:\\Users\\Habiba Asif\\anaconda3\\lib\\site-packages\\sklearn\\neural_network\\_multilayer_perceptron.py:692: ConvergenceWarning: Stochastic Optimizer: Maximum iterations (200) reached and the optimization hasn't converged yet.\n",
      "  warnings.warn(\n",
      "C:\\Users\\Habiba Asif\\anaconda3\\lib\\site-packages\\sklearn\\neural_network\\_multilayer_perceptron.py:692: ConvergenceWarning: Stochastic Optimizer: Maximum iterations (200) reached and the optimization hasn't converged yet.\n",
      "  warnings.warn(\n",
      "C:\\Users\\Habiba Asif\\anaconda3\\lib\\site-packages\\sklearn\\neural_network\\_multilayer_perceptron.py:692: ConvergenceWarning: Stochastic Optimizer: Maximum iterations (200) reached and the optimization hasn't converged yet.\n",
      "  warnings.warn(\n",
      "C:\\Users\\Habiba Asif\\anaconda3\\lib\\site-packages\\sklearn\\neural_network\\_multilayer_perceptron.py:692: ConvergenceWarning: Stochastic Optimizer: Maximum iterations (200) reached and the optimization hasn't converged yet.\n",
      "  warnings.warn(\n",
      "C:\\Users\\Habiba Asif\\anaconda3\\lib\\site-packages\\sklearn\\neural_network\\_multilayer_perceptron.py:692: ConvergenceWarning: Stochastic Optimizer: Maximum iterations (200) reached and the optimization hasn't converged yet.\n",
      "  warnings.warn(\n",
      "C:\\Users\\Habiba Asif\\anaconda3\\lib\\site-packages\\sklearn\\neural_network\\_multilayer_perceptron.py:692: ConvergenceWarning: Stochastic Optimizer: Maximum iterations (200) reached and the optimization hasn't converged yet.\n",
      "  warnings.warn(\n",
      "C:\\Users\\Habiba Asif\\anaconda3\\lib\\site-packages\\sklearn\\neural_network\\_multilayer_perceptron.py:692: ConvergenceWarning: Stochastic Optimizer: Maximum iterations (200) reached and the optimization hasn't converged yet.\n",
      "  warnings.warn(\n",
      "C:\\Users\\Habiba Asif\\anaconda3\\lib\\site-packages\\sklearn\\neural_network\\_multilayer_perceptron.py:692: ConvergenceWarning: Stochastic Optimizer: Maximum iterations (200) reached and the optimization hasn't converged yet.\n",
      "  warnings.warn(\n",
      "C:\\Users\\Habiba Asif\\anaconda3\\lib\\site-packages\\sklearn\\neural_network\\_multilayer_perceptron.py:692: ConvergenceWarning: Stochastic Optimizer: Maximum iterations (200) reached and the optimization hasn't converged yet.\n",
      "  warnings.warn(\n",
      "C:\\Users\\Habiba Asif\\anaconda3\\lib\\site-packages\\sklearn\\neural_network\\_multilayer_perceptron.py:692: ConvergenceWarning: Stochastic Optimizer: Maximum iterations (200) reached and the optimization hasn't converged yet.\n",
      "  warnings.warn(\n",
      "C:\\Users\\Habiba Asif\\anaconda3\\lib\\site-packages\\sklearn\\neural_network\\_multilayer_perceptron.py:692: ConvergenceWarning: Stochastic Optimizer: Maximum iterations (200) reached and the optimization hasn't converged yet.\n",
      "  warnings.warn(\n",
      "C:\\Users\\Habiba Asif\\anaconda3\\lib\\site-packages\\sklearn\\neural_network\\_multilayer_perceptron.py:692: ConvergenceWarning: Stochastic Optimizer: Maximum iterations (200) reached and the optimization hasn't converged yet.\n",
      "  warnings.warn(\n",
      "C:\\Users\\Habiba Asif\\anaconda3\\lib\\site-packages\\sklearn\\neural_network\\_multilayer_perceptron.py:692: ConvergenceWarning: Stochastic Optimizer: Maximum iterations (200) reached and the optimization hasn't converged yet.\n",
      "  warnings.warn(\n",
      "C:\\Users\\Habiba Asif\\anaconda3\\lib\\site-packages\\sklearn\\neural_network\\_multilayer_perceptron.py:692: ConvergenceWarning: Stochastic Optimizer: Maximum iterations (200) reached and the optimization hasn't converged yet.\n",
      "  warnings.warn(\n",
      "C:\\Users\\Habiba Asif\\anaconda3\\lib\\site-packages\\sklearn\\neural_network\\_multilayer_perceptron.py:692: ConvergenceWarning: Stochastic Optimizer: Maximum iterations (200) reached and the optimization hasn't converged yet.\n",
      "  warnings.warn(\n",
      "C:\\Users\\Habiba Asif\\anaconda3\\lib\\site-packages\\sklearn\\neural_network\\_multilayer_perceptron.py:692: ConvergenceWarning: Stochastic Optimizer: Maximum iterations (200) reached and the optimization hasn't converged yet.\n",
      "  warnings.warn(\n",
      "C:\\Users\\Habiba Asif\\anaconda3\\lib\\site-packages\\sklearn\\neural_network\\_multilayer_perceptron.py:692: ConvergenceWarning: Stochastic Optimizer: Maximum iterations (200) reached and the optimization hasn't converged yet.\n",
      "  warnings.warn(\n",
      "C:\\Users\\Habiba Asif\\anaconda3\\lib\\site-packages\\sklearn\\neural_network\\_multilayer_perceptron.py:692: ConvergenceWarning: Stochastic Optimizer: Maximum iterations (200) reached and the optimization hasn't converged yet.\n",
      "  warnings.warn(\n",
      "C:\\Users\\Habiba Asif\\anaconda3\\lib\\site-packages\\sklearn\\neural_network\\_multilayer_perceptron.py:692: ConvergenceWarning: Stochastic Optimizer: Maximum iterations (200) reached and the optimization hasn't converged yet.\n",
      "  warnings.warn(\n",
      "C:\\Users\\Habiba Asif\\anaconda3\\lib\\site-packages\\sklearn\\neural_network\\_multilayer_perceptron.py:692: ConvergenceWarning: Stochastic Optimizer: Maximum iterations (200) reached and the optimization hasn't converged yet.\n",
      "  warnings.warn(\n"
     ]
    },
    {
     "name": "stderr",
     "output_type": "stream",
     "text": [
      "C:\\Users\\Habiba Asif\\anaconda3\\lib\\site-packages\\sklearn\\neural_network\\_multilayer_perceptron.py:692: ConvergenceWarning: Stochastic Optimizer: Maximum iterations (200) reached and the optimization hasn't converged yet.\n",
      "  warnings.warn(\n",
      "C:\\Users\\Habiba Asif\\anaconda3\\lib\\site-packages\\sklearn\\neural_network\\_multilayer_perceptron.py:692: ConvergenceWarning: Stochastic Optimizer: Maximum iterations (200) reached and the optimization hasn't converged yet.\n",
      "  warnings.warn(\n",
      "C:\\Users\\Habiba Asif\\anaconda3\\lib\\site-packages\\sklearn\\neural_network\\_multilayer_perceptron.py:692: ConvergenceWarning: Stochastic Optimizer: Maximum iterations (200) reached and the optimization hasn't converged yet.\n",
      "  warnings.warn(\n",
      "C:\\Users\\Habiba Asif\\anaconda3\\lib\\site-packages\\sklearn\\neural_network\\_multilayer_perceptron.py:692: ConvergenceWarning: Stochastic Optimizer: Maximum iterations (200) reached and the optimization hasn't converged yet.\n",
      "  warnings.warn(\n",
      "C:\\Users\\Habiba Asif\\anaconda3\\lib\\site-packages\\sklearn\\neural_network\\_multilayer_perceptron.py:692: ConvergenceWarning: Stochastic Optimizer: Maximum iterations (200) reached and the optimization hasn't converged yet.\n",
      "  warnings.warn(\n",
      "C:\\Users\\Habiba Asif\\anaconda3\\lib\\site-packages\\sklearn\\neural_network\\_multilayer_perceptron.py:692: ConvergenceWarning: Stochastic Optimizer: Maximum iterations (200) reached and the optimization hasn't converged yet.\n",
      "  warnings.warn(\n",
      "C:\\Users\\Habiba Asif\\anaconda3\\lib\\site-packages\\sklearn\\neural_network\\_multilayer_perceptron.py:692: ConvergenceWarning: Stochastic Optimizer: Maximum iterations (200) reached and the optimization hasn't converged yet.\n",
      "  warnings.warn(\n",
      "C:\\Users\\Habiba Asif\\anaconda3\\lib\\site-packages\\sklearn\\neural_network\\_multilayer_perceptron.py:692: ConvergenceWarning: Stochastic Optimizer: Maximum iterations (200) reached and the optimization hasn't converged yet.\n",
      "  warnings.warn(\n",
      "C:\\Users\\Habiba Asif\\anaconda3\\lib\\site-packages\\sklearn\\neural_network\\_multilayer_perceptron.py:692: ConvergenceWarning: Stochastic Optimizer: Maximum iterations (200) reached and the optimization hasn't converged yet.\n",
      "  warnings.warn(\n",
      "C:\\Users\\Habiba Asif\\anaconda3\\lib\\site-packages\\sklearn\\neural_network\\_multilayer_perceptron.py:692: ConvergenceWarning: Stochastic Optimizer: Maximum iterations (200) reached and the optimization hasn't converged yet.\n",
      "  warnings.warn(\n",
      "C:\\Users\\Habiba Asif\\anaconda3\\lib\\site-packages\\sklearn\\neural_network\\_multilayer_perceptron.py:692: ConvergenceWarning: Stochastic Optimizer: Maximum iterations (200) reached and the optimization hasn't converged yet.\n",
      "  warnings.warn(\n",
      "C:\\Users\\Habiba Asif\\anaconda3\\lib\\site-packages\\sklearn\\neural_network\\_multilayer_perceptron.py:692: ConvergenceWarning: Stochastic Optimizer: Maximum iterations (200) reached and the optimization hasn't converged yet.\n",
      "  warnings.warn(\n",
      "C:\\Users\\Habiba Asif\\anaconda3\\lib\\site-packages\\sklearn\\neural_network\\_multilayer_perceptron.py:692: ConvergenceWarning: Stochastic Optimizer: Maximum iterations (200) reached and the optimization hasn't converged yet.\n",
      "  warnings.warn(\n",
      "C:\\Users\\Habiba Asif\\anaconda3\\lib\\site-packages\\sklearn\\neural_network\\_multilayer_perceptron.py:692: ConvergenceWarning: Stochastic Optimizer: Maximum iterations (200) reached and the optimization hasn't converged yet.\n",
      "  warnings.warn(\n"
     ]
    },
    {
     "data": {
      "image/png": "[encoded data removed]",
      "text/plain": [
       "<Figure size 640x480 with 1 Axes>"
      ]
     },
     "metadata": {},
     "output_type": "display_data"
    }
   ],
   "source": [
    "plot_learning_curve(mlp1, \"Learning Curve (MLP best)\", X, y, cv=kfold, scoring=auc_roc_scorer)\n",
    "plt.show()"
   ]
  },
  {
   "cell_type": "code",
   "execution_count": null,
   "metadata": {},
   "outputs": [
    {
     "name": "stderr",
     "output_type": "stream",
     "text": [
      "C:\\Users\\Habiba Asif\\anaconda3\\lib\\site-packages\\sklearn\\neural_network\\_multilayer_perceptron.py:692: ConvergenceWarning: Stochastic Optimizer: Maximum iterations (200) reached and the optimization hasn't converged yet.\n",
      "  warnings.warn(\n",
      "C:\\Users\\Habiba Asif\\anaconda3\\lib\\site-packages\\sklearn\\neural_network\\_multilayer_perceptron.py:692: ConvergenceWarning: Stochastic Optimizer: Maximum iterations (200) reached and the optimization hasn't converged yet.\n",
      "  warnings.warn(\n",
      "C:\\Users\\Habiba Asif\\anaconda3\\lib\\site-packages\\sklearn\\neural_network\\_multilayer_perceptron.py:692: ConvergenceWarning: Stochastic Optimizer: Maximum iterations (200) reached and the optimization hasn't converged yet.\n",
      "  warnings.warn(\n",
      "C:\\Users\\Habiba Asif\\anaconda3\\lib\\site-packages\\sklearn\\neural_network\\_multilayer_perceptron.py:692: ConvergenceWarning: Stochastic Optimizer: Maximum iterations (200) reached and the optimization hasn't converged yet.\n",
      "  warnings.warn(\n",
      "C:\\Users\\Habiba Asif\\anaconda3\\lib\\site-packages\\sklearn\\neural_network\\_multilayer_perceptron.py:692: ConvergenceWarning: Stochastic Optimizer: Maximum iterations (200) reached and the optimization hasn't converged yet.\n",
      "  warnings.warn(\n",
      "C:\\Users\\Habiba Asif\\anaconda3\\lib\\site-packages\\sklearn\\neural_network\\_multilayer_perceptron.py:692: ConvergenceWarning: Stochastic Optimizer: Maximum iterations (200) reached and the optimization hasn't converged yet.\n",
      "  warnings.warn(\n",
      "C:\\Users\\Habiba Asif\\anaconda3\\lib\\site-packages\\sklearn\\neural_network\\_multilayer_perceptron.py:692: ConvergenceWarning: Stochastic Optimizer: Maximum iterations (200) reached and the optimization hasn't converged yet.\n",
      "  warnings.warn(\n",
      "C:\\Users\\Habiba Asif\\anaconda3\\lib\\site-packages\\sklearn\\neural_network\\_multilayer_perceptron.py:692: ConvergenceWarning: Stochastic Optimizer: Maximum iterations (200) reached and the optimization hasn't converged yet.\n",
      "  warnings.warn(\n",
      "C:\\Users\\Habiba Asif\\anaconda3\\lib\\site-packages\\sklearn\\neural_network\\_multilayer_perceptron.py:692: ConvergenceWarning: Stochastic Optimizer: Maximum iterations (200) reached and the optimization hasn't converged yet.\n",
      "  warnings.warn(\n",
      "C:\\Users\\Habiba Asif\\anaconda3\\lib\\site-packages\\sklearn\\neural_network\\_multilayer_perceptron.py:692: ConvergenceWarning: Stochastic Optimizer: Maximum iterations (200) reached and the optimization hasn't converged yet.\n",
      "  warnings.warn(\n",
      "C:\\Users\\Habiba Asif\\anaconda3\\lib\\site-packages\\sklearn\\neural_network\\_multilayer_perceptron.py:692: ConvergenceWarning: Stochastic Optimizer: Maximum iterations (200) reached and the optimization hasn't converged yet.\n",
      "  warnings.warn(\n",
      "C:\\Users\\Habiba Asif\\anaconda3\\lib\\site-packages\\sklearn\\neural_network\\_multilayer_perceptron.py:692: ConvergenceWarning: Stochastic Optimizer: Maximum iterations (200) reached and the optimization hasn't converged yet.\n",
      "  warnings.warn(\n",
      "C:\\Users\\Habiba Asif\\anaconda3\\lib\\site-packages\\sklearn\\neural_network\\_multilayer_perceptron.py:692: ConvergenceWarning: Stochastic Optimizer: Maximum iterations (200) reached and the optimization hasn't converged yet.\n",
      "  warnings.warn(\n",
      "C:\\Users\\Habiba Asif\\anaconda3\\lib\\site-packages\\sklearn\\neural_network\\_multilayer_perceptron.py:692: ConvergenceWarning: Stochastic Optimizer: Maximum iterations (200) reached and the optimization hasn't converged yet.\n",
      "  warnings.warn(\n",
      "C:\\Users\\Habiba Asif\\anaconda3\\lib\\site-packages\\sklearn\\neural_network\\_multilayer_perceptron.py:692: ConvergenceWarning: Stochastic Optimizer: Maximum iterations (200) reached and the optimization hasn't converged yet.\n",
      "  warnings.warn(\n",
      "C:\\Users\\Habiba Asif\\anaconda3\\lib\\site-packages\\sklearn\\neural_network\\_multilayer_perceptron.py:692: ConvergenceWarning: Stochastic Optimizer: Maximum iterations (200) reached and the optimization hasn't converged yet.\n",
      "  warnings.warn(\n",
      "C:\\Users\\Habiba Asif\\anaconda3\\lib\\site-packages\\sklearn\\neural_network\\_multilayer_perceptron.py:692: ConvergenceWarning: Stochastic Optimizer: Maximum iterations (200) reached and the optimization hasn't converged yet.\n",
      "  warnings.warn(\n",
      "C:\\Users\\Habiba Asif\\anaconda3\\lib\\site-packages\\sklearn\\neural_network\\_multilayer_perceptron.py:692: ConvergenceWarning: Stochastic Optimizer: Maximum iterations (200) reached and the optimization hasn't converged yet.\n",
      "  warnings.warn(\n",
      "C:\\Users\\Habiba Asif\\anaconda3\\lib\\site-packages\\sklearn\\neural_network\\_multilayer_perceptron.py:692: ConvergenceWarning: Stochastic Optimizer: Maximum iterations (200) reached and the optimization hasn't converged yet.\n",
      "  warnings.warn(\n",
      "C:\\Users\\Habiba Asif\\anaconda3\\lib\\site-packages\\sklearn\\neural_network\\_multilayer_perceptron.py:692: ConvergenceWarning: Stochastic Optimizer: Maximum iterations (200) reached and the optimization hasn't converged yet.\n",
      "  warnings.warn(\n",
      "C:\\Users\\Habiba Asif\\anaconda3\\lib\\site-packages\\sklearn\\neural_network\\_multilayer_perceptron.py:692: ConvergenceWarning: Stochastic Optimizer: Maximum iterations (200) reached and the optimization hasn't converged yet.\n",
      "  warnings.warn(\n",
      "C:\\Users\\Habiba Asif\\anaconda3\\lib\\site-packages\\sklearn\\neural_network\\_multilayer_perceptron.py:692: ConvergenceWarning: Stochastic Optimizer: Maximum iterations (200) reached and the optimization hasn't converged yet.\n",
      "  warnings.warn(\n"
     ]
    }
   ],
   "source": [
    "plot_learning_curve(mlp2, \"Learning Curve (MLP 2)\", X, y, cv=kfold, scoring=auc_roc_scorer)\n",
    "plt.show()"
   ]
  },
  {
   "cell_type": "code",
   "execution_count": null,
   "metadata": {},
   "outputs": [],
   "source": [
    "plot_learning_curve(mlp3, \"Learning Curve (MLP 3)\", X, y, cv=kfold, scoring=auc_roc_scorer)\n",
    "plt.show()"
   ]
  },
  {
   "cell_type": "code",
   "execution_count": null,
   "metadata": {},
   "outputs": [],
   "source": [
    "# GRAPHICAL AND TABULAR COMPARISIONS"
   ]
  },
  {
   "cell_type": "code",
   "execution_count": null,
   "metadata": {},
   "outputs": [],
   "source": []
  },
  {
   "cell_type": "code",
   "execution_count": null,
   "metadata": {},
   "outputs": [],
   "source": [
    "import numpy as np\n",
    "import matplotlib.pyplot as plt\n",
    "import pickle\n",
    "from sklearn.metrics import roc_curve, auc, roc_auc_score, confusion_matrix, precision_score, recall_score, accuracy_score, classification_report\n",
    "from sklearn.model_selection import learning_curve, KFold\n",
    "from sklearn.metrics import make_scorer\n",
    "from sklearn.neural_network import MLPClassifier\n",
    "from sklearn.neighbors import KNeighborsClassifier\n",
    "from sklearn.linear_model import LogisticRegression\n",
    "from sklearn.tree import DecisionTreeClassifier\n",
    "\n",
    "# Function to load models from pickle files\n",
    "def load_models(file_names):\n",
    "    models = []\n",
    "    for file_name in file_names:\n",
    "        with open(file_name, 'rb') as file:\n",
    "            model = pickle.load(file)\n",
    "            models.append(model)\n",
    "    return models\n",
    "\n",
    "# Function to make predictions using a model\n",
    "def make_prediction(model, test_data):\n",
    "    y_pred = model.predict(test_data)\n",
    "    y_proba = model.predict_proba(test_data)\n",
    "    return {'y_pred': y_pred, 'y_proba': y_proba}\n",
    "\n",
    "# Function to evaluate and print model performance metrics\n",
    "def eval_model(model, x_test, y_test, x_train, y_train):\n",
    "    # Prediction on test set\n",
    "    y_pred_test = model.predict(x_test)\n",
    "    y_proba_test = model.predict_proba(x_test)\n",
    "    \n",
    "    # Prediction on train set\n",
    "    y_proba_train = model.predict_proba(x_train)\n",
    "    y_pred_train = model.predict(x_train)\n",
    "\n",
    "    # Calculate ROC AUC for each class (for train and test)\n",
    "    roc_auc_scores1 = roc_auc_score(y_train, y_proba_train, multi_class='ovr')\n",
    "    roc_auc_scores2 = roc_auc_score(y_train, y_proba_train, multi_class='ovo')\n",
    "    roc_auc_scores3 = roc_auc_score(y_test, y_proba_test, multi_class='ovr')\n",
    "    roc_auc_scores4 = roc_auc_score(y_test, y_proba_test, multi_class='ovo')\n",
    "    \n",
    "    # Calculate other metrics\n",
    "    confusion_matrix_test = confusion_matrix(y_test, y_pred_test)\n",
    "    precision_scores = np.round(precision_score(y_test, y_pred_test, average=None), 2)\n",
    "    recall_scores = np.round(recall_score(y_test, y_pred_test, average=None), 2)\n",
    "    accuracy_test = round(model.score(x_test, y_test), 2)\n",
    "    accuracy_train = round(model.score(x_train, y_train), 2)\n",
    "    \n",
    "    # Store the metrics in a dictionary\n",
    "    metrics_dict = {\n",
    "        \"Model\": str(model),\n",
    "        \"ROC AUC (Train ovr)\": roc_auc_scores1,\n",
    "        \"ROC AUC (Train ovo)\": roc_auc_scores2,\n",
    "        \"ROC AUC (Test ovr)\": roc_auc_scores3,\n",
    "        \"ROC AUC (Test ovo)\": roc_auc_scores4,\n",
    "        \"Confusion Matrix\": confusion_matrix_test,\n",
    "        \"Precision Scores\": precision_scores,\n",
    "        \"Recall Scores\": recall_scores,\n",
    "        \"Accuracy (Test Set)\": accuracy_test,\n",
    "        \"Classification Score (Test Set)\": accuracy_test,\n",
    "        \"Classification Score (Train Set)\": accuracy_train\n",
    "    }\n",
    "\n",
    "    # Print the metrics neatly\n",
    "    print(\"\\nMetrics for Model:\", str(model))\n",
    "    for metric, value in metrics_dict.items():\n",
    "        if metric not in [\"Confusion Matrix\", \"Precision Scores\", \"Recall Scores\"]:\n",
    "            print(f\"{metric}: {value}\")\n",
    "        else:\n",
    "            print(f\"\\n{metric}:\")\n",
    "            print(value)\n",
    "\n",
    "# Function to plot ROC curves for multiple models\n",
    "def plot_roc_curves(models, names, X_test, y_test):\n",
    "    plt.figure(figsize=(8, 6))\n",
    "    for model, name in zip(models, names):\n",
    "        y_proba = model.predict_proba(X_test)\n",
    "        fpr, tpr, _ = roc_curve(y_test.ravel(), y_proba.ravel())\n",
    "        roc_auc = auc(fpr, tpr)\n",
    "        plt.plot(fpr, tpr, label=f'{name} (AUC = {roc_auc:.2f})')\n",
    "\n",
    "    plt.plot([0, 1], [0, 1], 'k--', label='Random')\n",
    "    plt.xlabel('False Positive Rate')\n",
    "    plt.ylabel('True Positive Rate')\n",
    "    plt.title('ROC Curves for Multiple Models')\n",
    "    plt.legend(loc='lower right')\n",
    "    plt.show()\n",
    "\n",
    "# Function to plot learning curves for multiple models\n",
    "def plot_learning_curves(models, names, X, y, cv, scoring, train_sizes=np.linspace(0.1, 1.0, 10)):\n",
    "    plt.figure(figsize=(8, 6))\n",
    "    for model, name in zip(models, names):\n",
    "        plt.title(f\"Learning Curve ({name})\")\n",
    "        plt.xlabel(\"Training examples\")\n",
    "        plt.ylabel(\"Score\")\n",
    "        train_sizes, train_scores, test_scores = learning_curve(model, X, y, cv=cv, train_sizes=train_sizes, scoring=scoring)\n",
    "        train_scores_mean = np.mean(train_scores, axis=1)\n",
    "        test_scores_mean = np.mean(test_scores, axis=1)\n",
    "        plt.grid()\n",
    "        plt.plot(train_sizes, train_scores_mean, 'o-', color=\"r\", label=\"Training score\")\n",
    "        plt.plot(train_sizes, test_scores_mean, 'o-', color=\"g\", label=\"Cross-validation score\")\n",
    "        plt.legend(loc=\"best\")\n",
    "        plt.show()\n"
   ]
  },
  {
   "cell_type": "code",
   "execution_count": null,
   "metadata": {},
   "outputs": [],
   "source": [
    "# List of model filenames\n",
    "model_files = [\"knn1.pkl\", \"knn2.pkl\", \"knn3.pkl\", \"mlp1.pkl\", \"mlp2.pkl\", \"mlp3.pkl\", \"fdt1.pkl\", \"fdt2.pkl\", \"fdt3.pkl\"]\n",
    "\n",
    "# Load the models\n",
    "models = load_models(model_files)\n"
   ]
  },
  {
   "cell_type": "code",
   "execution_count": null,
   "metadata": {},
   "outputs": [],
   "source": [
    "for model in models:\n",
    "    eval_model(model, X_test, y_test, X_train, y_train)\n"
   ]
  },
  {
   "cell_type": "code",
   "execution_count": null,
   "metadata": {},
   "outputs": [],
   "source": [
    "model_names = [\"KNN Model 1\", \"KNN Model 2\", \"KNN Model 3\", \"MLP Model 1\", \"MLP Model 2\", \"MLP Model 3\", \"Decision Tree Model 1\", \"Decision Tree Model 2\", \"Decision Tree Model 3\"]\n",
    "\n",
    "plot_roc_curves(models, model_names, X_test, y_test)\n"
   ]
  },
  {
   "cell_type": "code",
   "execution_count": null,
   "metadata": {},
   "outputs": [],
   "source": [
    "# Create AUC-ROC scorer\n",
    "auc_roc_scorer = make_scorer(roc_auc_score, needs_proba=True, multi_class='ovr')\n",
    "\n",
    "# Plot learning curves for the models\n",
    "plot_learning_curves(models, model_names, X, y, cv=kfold, scoring=auc_roc_scorer)\n"
   ]
  }
 ],
 "metadata": {
  "colab": {
   "provenance": []
  },
  "kernelspec": {
   "display_name": "Python 3 (ipykernel)",
   "language": "python",
   "name": "python3"
  },
  "language_info": {
   "codemirror_mode": {
    "name": "ipython",
    "version": 3
   },
   "file_extension": ".py",
   "mimetype": "text/x-python",
   "name": "python",
   "nbconvert_exporter": "python",
   "pygments_lexer": "ipython3",
   "version": "3.9.13"
  }
 },
 "nbformat": 4,
 "nbformat_minor": 1
}
